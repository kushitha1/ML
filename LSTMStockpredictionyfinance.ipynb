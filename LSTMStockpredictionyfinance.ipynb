{
  "nbformat": 4,
  "nbformat_minor": 0,
  "metadata": {
    "colab": {
      "provenance": [],
      "include_colab_link": true
    },
    "kernelspec": {
      "name": "python3",
      "display_name": "Python 3"
    },
    "language_info": {
      "name": "python"
    }
  },
  "cells": [
    {
      "cell_type": "markdown",
      "metadata": {
        "id": "view-in-github",
        "colab_type": "text"
      },
      "source": [
        "<a href=\"https://colab.research.google.com/github/kushitha1/ML/blob/main/LSTMStockpredictionyfinance.ipynb\" target=\"_parent\"><img src=\"https://colab.research.google.com/assets/colab-badge.svg\" alt=\"Open In Colab\"/></a>"
      ]
    },
    {
      "cell_type": "code",
      "execution_count": null,
      "metadata": {
        "colab": {
          "base_uri": "https://localhost:8080/"
        },
        "id": "OOpDo5Miiwj7",
        "outputId": "1f405e72-12b0-4f17-f182-235d44279d4a"
      },
      "outputs": [
        {
          "output_type": "stream",
          "name": "stdout",
          "text": [
            "Looking in indexes: https://pypi.org/simple, https://us-python.pkg.dev/colab-wheels/public/simple/\n",
            "Requirement already satisfied: pandas-datareader==0.9.0 in /usr/local/lib/python3.7/dist-packages (0.9.0)\n",
            "Requirement already satisfied: requests>=2.19.0 in /usr/local/lib/python3.7/dist-packages (from pandas-datareader==0.9.0) (2.28.1)\n",
            "Requirement already satisfied: pandas>=0.23 in /usr/local/lib/python3.7/dist-packages (from pandas-datareader==0.9.0) (1.3.5)\n",
            "Requirement already satisfied: lxml in /usr/local/lib/python3.7/dist-packages (from pandas-datareader==0.9.0) (4.9.1)\n",
            "Requirement already satisfied: pytz>=2017.3 in /usr/local/lib/python3.7/dist-packages (from pandas>=0.23->pandas-datareader==0.9.0) (2022.2.1)\n",
            "Requirement already satisfied: python-dateutil>=2.7.3 in /usr/local/lib/python3.7/dist-packages (from pandas>=0.23->pandas-datareader==0.9.0) (2.8.2)\n",
            "Requirement already satisfied: numpy>=1.17.3 in /usr/local/lib/python3.7/dist-packages (from pandas>=0.23->pandas-datareader==0.9.0) (1.21.6)\n",
            "Requirement already satisfied: six>=1.5 in /usr/local/lib/python3.7/dist-packages (from python-dateutil>=2.7.3->pandas>=0.23->pandas-datareader==0.9.0) (1.15.0)\n",
            "Requirement already satisfied: charset-normalizer<3,>=2 in /usr/local/lib/python3.7/dist-packages (from requests>=2.19.0->pandas-datareader==0.9.0) (2.1.0)\n",
            "Requirement already satisfied: urllib3<1.27,>=1.21.1 in /usr/local/lib/python3.7/dist-packages (from requests>=2.19.0->pandas-datareader==0.9.0) (1.24.3)\n",
            "Requirement already satisfied: certifi>=2017.4.17 in /usr/local/lib/python3.7/dist-packages (from requests>=2.19.0->pandas-datareader==0.9.0) (2022.6.15)\n",
            "Requirement already satisfied: idna<4,>=2.5 in /usr/local/lib/python3.7/dist-packages (from requests>=2.19.0->pandas-datareader==0.9.0) (2.10)\n"
          ]
        }
      ],
      "source": [
        "!pip install --upgrade pandas-datareader==0.9.0"
      ]
    },
    {
      "cell_type": "code",
      "source": [
        "!pip install -q yfinance"
      ],
      "metadata": {
        "id": "ixBRkOgfjEi3"
      },
      "execution_count": null,
      "outputs": []
    },
    {
      "cell_type": "code",
      "source": [
        "import pandas as pd\n",
        "import numpy as np\n",
        "import matplotlib.pyplot as plt\n",
        "\n",
        "%matplotlib inline"
      ],
      "metadata": {
        "id": "iFxppInzjNOr"
      },
      "execution_count": null,
      "outputs": []
    },
    {
      "cell_type": "code",
      "source": [
        "from pandas_datareader import DataReader\n",
        "import yfinance as yf\n",
        "from datetime import datetime"
      ],
      "metadata": {
        "id": "iXmnqDSbjjIk"
      },
      "execution_count": null,
      "outputs": []
    },
    {
      "cell_type": "code",
      "source": [
        "tech_list=['AAPL','GOOG','MSFT','AMZN']\n"
      ],
      "metadata": {
        "id": "wXIidQJTkf17"
      },
      "execution_count": null,
      "outputs": []
    },
    {
      "cell_type": "code",
      "source": [
        "end=datetime.now()\n",
        "start=datetime(end.year -1 ,end.month,end.day)"
      ],
      "metadata": {
        "id": "Z8gb5hWQlA9Y"
      },
      "execution_count": null,
      "outputs": []
    },
    {
      "cell_type": "code",
      "source": [
        "end"
      ],
      "metadata": {
        "colab": {
          "base_uri": "https://localhost:8080/"
        },
        "id": "dhDzQIfmlZCd",
        "outputId": "2e44fe63-3971-4c83-d498-1446ec3d2cc2"
      },
      "execution_count": null,
      "outputs": [
        {
          "output_type": "execute_result",
          "data": {
            "text/plain": [
              "datetime.datetime(2022, 8, 27, 5, 44, 41, 508274)"
            ]
          },
          "metadata": {},
          "execution_count": 62
        }
      ]
    },
    {
      "cell_type": "code",
      "source": [
        "start"
      ],
      "metadata": {
        "colab": {
          "base_uri": "https://localhost:8080/"
        },
        "id": "dX8mzG8glaQW",
        "outputId": "dad45778-c67e-44ca-ecb8-e66593496c79"
      },
      "execution_count": null,
      "outputs": [
        {
          "output_type": "execute_result",
          "data": {
            "text/plain": [
              "datetime.datetime(2021, 8, 27, 0, 0)"
            ]
          },
          "metadata": {},
          "execution_count": 63
        }
      ]
    },
    {
      "cell_type": "code",
      "source": [
        "for stock in tech_list:\n",
        "  globals()[stock]=yf.download(stock,start,end)"
      ],
      "metadata": {
        "colab": {
          "base_uri": "https://localhost:8080/"
        },
        "id": "b7NdYM8LlfRK",
        "outputId": "f26151fb-37fa-4c45-9261-c3e426b6bb61"
      },
      "execution_count": null,
      "outputs": [
        {
          "output_type": "stream",
          "name": "stdout",
          "text": [
            "[*********************100%***********************]  1 of 1 completed\n",
            "[*********************100%***********************]  1 of 1 completed\n",
            "[*********************100%***********************]  1 of 1 completed\n",
            "[*********************100%***********************]  1 of 1 completed\n"
          ]
        }
      ]
    },
    {
      "cell_type": "code",
      "source": [
        "stock"
      ],
      "metadata": {
        "colab": {
          "base_uri": "https://localhost:8080/",
          "height": 36
        },
        "id": "vGU9741Jl6XZ",
        "outputId": "e6152706-ee07-4d71-9e04-677cc7e3a40e"
      },
      "execution_count": null,
      "outputs": [
        {
          "output_type": "execute_result",
          "data": {
            "text/plain": [
              "'AMZN'"
            ],
            "application/vnd.google.colaboratory.intrinsic+json": {
              "type": "string"
            }
          },
          "metadata": {},
          "execution_count": 65
        }
      ]
    },
    {
      "cell_type": "code",
      "source": [
        "\n",
        "company_list=[AAPL,GOOG,MSFT,AMZN]#symbol present in yfinance\n",
        "company_name=[\"Apple\",\"Google\",\"Microsoft\",\"Amazon\"]#Actul company name\n",
        "for company,com_name in zip(company_list,company_name):\n",
        "  company['company_name']=com_name\n"
      ],
      "metadata": {
        "id": "5Ddz0oXOl_n6"
      },
      "execution_count": null,
      "outputs": []
    },
    {
      "cell_type": "code",
      "source": [],
      "metadata": {
        "id": "xYICesQZqQ5a"
      },
      "execution_count": null,
      "outputs": []
    },
    {
      "cell_type": "code",
      "source": [],
      "metadata": {
        "id": "WASXaUzHnQ6f"
      },
      "execution_count": null,
      "outputs": []
    },
    {
      "cell_type": "code",
      "source": [
        "df=pd.concat(company_list,axis=0)"
      ],
      "metadata": {
        "id": "XHLIWix_mZv7"
      },
      "execution_count": null,
      "outputs": []
    },
    {
      "cell_type": "code",
      "source": [
        "df.tail(5)"
      ],
      "metadata": {
        "colab": {
          "base_uri": "https://localhost:8080/",
          "height": 237
        },
        "id": "D_YT9pr5qRug",
        "outputId": "b57a6bd9-2d70-4141-956e-6ccf53629386"
      },
      "execution_count": null,
      "outputs": [
        {
          "output_type": "execute_result",
          "data": {
            "text/plain": [
              "                  Open        High         Low       Close   Adj Close  \\\n",
              "Date                                                                     \n",
              "2022-08-22  135.720001  136.320007  132.850006  133.220001  133.220001   \n",
              "2022-08-23  133.410004  134.990005  132.949997  133.619995  133.619995   \n",
              "2022-08-24  132.750000  135.470001  132.100006  133.800003  133.800003   \n",
              "2022-08-25  135.259995  137.419998  134.279999  137.279999  137.279999   \n",
              "2022-08-26  136.550003  137.830002  130.500000  130.750000  130.750000   \n",
              "\n",
              "              Volume company_name  \n",
              "Date                               \n",
              "2022-08-22  50461500       Amazon  \n",
              "2022-08-23  36252100       Amazon  \n",
              "2022-08-24  38627000       Amazon  \n",
              "2022-08-25  37496300       Amazon  \n",
              "2022-08-26  53253100       Amazon  "
            ],
            "text/html": [
              "\n",
              "  <div id=\"df-42febfce-85c8-4b60-a713-91aa67271306\">\n",
              "    <div class=\"colab-df-container\">\n",
              "      <div>\n",
              "<style scoped>\n",
              "    .dataframe tbody tr th:only-of-type {\n",
              "        vertical-align: middle;\n",
              "    }\n",
              "\n",
              "    .dataframe tbody tr th {\n",
              "        vertical-align: top;\n",
              "    }\n",
              "\n",
              "    .dataframe thead th {\n",
              "        text-align: right;\n",
              "    }\n",
              "</style>\n",
              "<table border=\"1\" class=\"dataframe\">\n",
              "  <thead>\n",
              "    <tr style=\"text-align: right;\">\n",
              "      <th></th>\n",
              "      <th>Open</th>\n",
              "      <th>High</th>\n",
              "      <th>Low</th>\n",
              "      <th>Close</th>\n",
              "      <th>Adj Close</th>\n",
              "      <th>Volume</th>\n",
              "      <th>company_name</th>\n",
              "    </tr>\n",
              "    <tr>\n",
              "      <th>Date</th>\n",
              "      <th></th>\n",
              "      <th></th>\n",
              "      <th></th>\n",
              "      <th></th>\n",
              "      <th></th>\n",
              "      <th></th>\n",
              "      <th></th>\n",
              "    </tr>\n",
              "  </thead>\n",
              "  <tbody>\n",
              "    <tr>\n",
              "      <th>2022-08-22</th>\n",
              "      <td>135.720001</td>\n",
              "      <td>136.320007</td>\n",
              "      <td>132.850006</td>\n",
              "      <td>133.220001</td>\n",
              "      <td>133.220001</td>\n",
              "      <td>50461500</td>\n",
              "      <td>Amazon</td>\n",
              "    </tr>\n",
              "    <tr>\n",
              "      <th>2022-08-23</th>\n",
              "      <td>133.410004</td>\n",
              "      <td>134.990005</td>\n",
              "      <td>132.949997</td>\n",
              "      <td>133.619995</td>\n",
              "      <td>133.619995</td>\n",
              "      <td>36252100</td>\n",
              "      <td>Amazon</td>\n",
              "    </tr>\n",
              "    <tr>\n",
              "      <th>2022-08-24</th>\n",
              "      <td>132.750000</td>\n",
              "      <td>135.470001</td>\n",
              "      <td>132.100006</td>\n",
              "      <td>133.800003</td>\n",
              "      <td>133.800003</td>\n",
              "      <td>38627000</td>\n",
              "      <td>Amazon</td>\n",
              "    </tr>\n",
              "    <tr>\n",
              "      <th>2022-08-25</th>\n",
              "      <td>135.259995</td>\n",
              "      <td>137.419998</td>\n",
              "      <td>134.279999</td>\n",
              "      <td>137.279999</td>\n",
              "      <td>137.279999</td>\n",
              "      <td>37496300</td>\n",
              "      <td>Amazon</td>\n",
              "    </tr>\n",
              "    <tr>\n",
              "      <th>2022-08-26</th>\n",
              "      <td>136.550003</td>\n",
              "      <td>137.830002</td>\n",
              "      <td>130.500000</td>\n",
              "      <td>130.750000</td>\n",
              "      <td>130.750000</td>\n",
              "      <td>53253100</td>\n",
              "      <td>Amazon</td>\n",
              "    </tr>\n",
              "  </tbody>\n",
              "</table>\n",
              "</div>\n",
              "      <button class=\"colab-df-convert\" onclick=\"convertToInteractive('df-42febfce-85c8-4b60-a713-91aa67271306')\"\n",
              "              title=\"Convert this dataframe to an interactive table.\"\n",
              "              style=\"display:none;\">\n",
              "        \n",
              "  <svg xmlns=\"http://www.w3.org/2000/svg\" height=\"24px\"viewBox=\"0 0 24 24\"\n",
              "       width=\"24px\">\n",
              "    <path d=\"M0 0h24v24H0V0z\" fill=\"none\"/>\n",
              "    <path d=\"M18.56 5.44l.94 2.06.94-2.06 2.06-.94-2.06-.94-.94-2.06-.94 2.06-2.06.94zm-11 1L8.5 8.5l.94-2.06 2.06-.94-2.06-.94L8.5 2.5l-.94 2.06-2.06.94zm10 10l.94 2.06.94-2.06 2.06-.94-2.06-.94-.94-2.06-.94 2.06-2.06.94z\"/><path d=\"M17.41 7.96l-1.37-1.37c-.4-.4-.92-.59-1.43-.59-.52 0-1.04.2-1.43.59L10.3 9.45l-7.72 7.72c-.78.78-.78 2.05 0 2.83L4 21.41c.39.39.9.59 1.41.59.51 0 1.02-.2 1.41-.59l7.78-7.78 2.81-2.81c.8-.78.8-2.07 0-2.86zM5.41 20L4 18.59l7.72-7.72 1.47 1.35L5.41 20z\"/>\n",
              "  </svg>\n",
              "      </button>\n",
              "      \n",
              "  <style>\n",
              "    .colab-df-container {\n",
              "      display:flex;\n",
              "      flex-wrap:wrap;\n",
              "      gap: 12px;\n",
              "    }\n",
              "\n",
              "    .colab-df-convert {\n",
              "      background-color: #E8F0FE;\n",
              "      border: none;\n",
              "      border-radius: 50%;\n",
              "      cursor: pointer;\n",
              "      display: none;\n",
              "      fill: #1967D2;\n",
              "      height: 32px;\n",
              "      padding: 0 0 0 0;\n",
              "      width: 32px;\n",
              "    }\n",
              "\n",
              "    .colab-df-convert:hover {\n",
              "      background-color: #E2EBFA;\n",
              "      box-shadow: 0px 1px 2px rgba(60, 64, 67, 0.3), 0px 1px 3px 1px rgba(60, 64, 67, 0.15);\n",
              "      fill: #174EA6;\n",
              "    }\n",
              "\n",
              "    [theme=dark] .colab-df-convert {\n",
              "      background-color: #3B4455;\n",
              "      fill: #D2E3FC;\n",
              "    }\n",
              "\n",
              "    [theme=dark] .colab-df-convert:hover {\n",
              "      background-color: #434B5C;\n",
              "      box-shadow: 0px 1px 3px 1px rgba(0, 0, 0, 0.15);\n",
              "      filter: drop-shadow(0px 1px 2px rgba(0, 0, 0, 0.3));\n",
              "      fill: #FFFFFF;\n",
              "    }\n",
              "  </style>\n",
              "\n",
              "      <script>\n",
              "        const buttonEl =\n",
              "          document.querySelector('#df-42febfce-85c8-4b60-a713-91aa67271306 button.colab-df-convert');\n",
              "        buttonEl.style.display =\n",
              "          google.colab.kernel.accessAllowed ? 'block' : 'none';\n",
              "\n",
              "        async function convertToInteractive(key) {\n",
              "          const element = document.querySelector('#df-42febfce-85c8-4b60-a713-91aa67271306');\n",
              "          const dataTable =\n",
              "            await google.colab.kernel.invokeFunction('convertToInteractive',\n",
              "                                                     [key], {});\n",
              "          if (!dataTable) return;\n",
              "\n",
              "          const docLinkHtml = 'Like what you see? Visit the ' +\n",
              "            '<a target=\"_blank\" href=https://colab.research.google.com/notebooks/data_table.ipynb>data table notebook</a>'\n",
              "            + ' to learn more about interactive tables.';\n",
              "          element.innerHTML = '';\n",
              "          dataTable['output_type'] = 'display_data';\n",
              "          await google.colab.output.renderOutput(dataTable, element);\n",
              "          const docLink = document.createElement('div');\n",
              "          docLink.innerHTML = docLinkHtml;\n",
              "          element.appendChild(docLink);\n",
              "        }\n",
              "      </script>\n",
              "    </div>\n",
              "  </div>\n",
              "  "
            ]
          },
          "metadata": {},
          "execution_count": 68
        }
      ]
    },
    {
      "cell_type": "code",
      "source": [
        "AAPL.head()"
      ],
      "metadata": {
        "colab": {
          "base_uri": "https://localhost:8080/",
          "height": 237
        },
        "id": "1ezAHGc_qgNA",
        "outputId": "ee96e1cd-9df4-4100-e099-905fe4264805"
      },
      "execution_count": null,
      "outputs": [
        {
          "output_type": "execute_result",
          "data": {
            "text/plain": [
              "                  Open        High         Low       Close   Adj Close  \\\n",
              "Date                                                                     \n",
              "2021-08-27  147.479996  148.750000  146.830002  148.600006  147.771957   \n",
              "2021-08-30  149.000000  153.490005  148.610001  153.119995  152.266754   \n",
              "2021-08-31  152.660004  152.800003  151.289993  151.830002  150.983963   \n",
              "2021-09-01  152.830002  154.979996  152.339996  152.509995  151.660156   \n",
              "2021-09-02  153.869995  154.720001  152.399994  153.649994  152.793808   \n",
              "\n",
              "              Volume company_name  \n",
              "Date                               \n",
              "2021-08-27  55802400        Apple  \n",
              "2021-08-30  90956700        Apple  \n",
              "2021-08-31  86453100        Apple  \n",
              "2021-09-01  80313700        Apple  \n",
              "2021-09-02  71115500        Apple  "
            ],
            "text/html": [
              "\n",
              "  <div id=\"df-22619c91-dd3f-4ce7-a543-c0346a581c92\">\n",
              "    <div class=\"colab-df-container\">\n",
              "      <div>\n",
              "<style scoped>\n",
              "    .dataframe tbody tr th:only-of-type {\n",
              "        vertical-align: middle;\n",
              "    }\n",
              "\n",
              "    .dataframe tbody tr th {\n",
              "        vertical-align: top;\n",
              "    }\n",
              "\n",
              "    .dataframe thead th {\n",
              "        text-align: right;\n",
              "    }\n",
              "</style>\n",
              "<table border=\"1\" class=\"dataframe\">\n",
              "  <thead>\n",
              "    <tr style=\"text-align: right;\">\n",
              "      <th></th>\n",
              "      <th>Open</th>\n",
              "      <th>High</th>\n",
              "      <th>Low</th>\n",
              "      <th>Close</th>\n",
              "      <th>Adj Close</th>\n",
              "      <th>Volume</th>\n",
              "      <th>company_name</th>\n",
              "    </tr>\n",
              "    <tr>\n",
              "      <th>Date</th>\n",
              "      <th></th>\n",
              "      <th></th>\n",
              "      <th></th>\n",
              "      <th></th>\n",
              "      <th></th>\n",
              "      <th></th>\n",
              "      <th></th>\n",
              "    </tr>\n",
              "  </thead>\n",
              "  <tbody>\n",
              "    <tr>\n",
              "      <th>2021-08-27</th>\n",
              "      <td>147.479996</td>\n",
              "      <td>148.750000</td>\n",
              "      <td>146.830002</td>\n",
              "      <td>148.600006</td>\n",
              "      <td>147.771957</td>\n",
              "      <td>55802400</td>\n",
              "      <td>Apple</td>\n",
              "    </tr>\n",
              "    <tr>\n",
              "      <th>2021-08-30</th>\n",
              "      <td>149.000000</td>\n",
              "      <td>153.490005</td>\n",
              "      <td>148.610001</td>\n",
              "      <td>153.119995</td>\n",
              "      <td>152.266754</td>\n",
              "      <td>90956700</td>\n",
              "      <td>Apple</td>\n",
              "    </tr>\n",
              "    <tr>\n",
              "      <th>2021-08-31</th>\n",
              "      <td>152.660004</td>\n",
              "      <td>152.800003</td>\n",
              "      <td>151.289993</td>\n",
              "      <td>151.830002</td>\n",
              "      <td>150.983963</td>\n",
              "      <td>86453100</td>\n",
              "      <td>Apple</td>\n",
              "    </tr>\n",
              "    <tr>\n",
              "      <th>2021-09-01</th>\n",
              "      <td>152.830002</td>\n",
              "      <td>154.979996</td>\n",
              "      <td>152.339996</td>\n",
              "      <td>152.509995</td>\n",
              "      <td>151.660156</td>\n",
              "      <td>80313700</td>\n",
              "      <td>Apple</td>\n",
              "    </tr>\n",
              "    <tr>\n",
              "      <th>2021-09-02</th>\n",
              "      <td>153.869995</td>\n",
              "      <td>154.720001</td>\n",
              "      <td>152.399994</td>\n",
              "      <td>153.649994</td>\n",
              "      <td>152.793808</td>\n",
              "      <td>71115500</td>\n",
              "      <td>Apple</td>\n",
              "    </tr>\n",
              "  </tbody>\n",
              "</table>\n",
              "</div>\n",
              "      <button class=\"colab-df-convert\" onclick=\"convertToInteractive('df-22619c91-dd3f-4ce7-a543-c0346a581c92')\"\n",
              "              title=\"Convert this dataframe to an interactive table.\"\n",
              "              style=\"display:none;\">\n",
              "        \n",
              "  <svg xmlns=\"http://www.w3.org/2000/svg\" height=\"24px\"viewBox=\"0 0 24 24\"\n",
              "       width=\"24px\">\n",
              "    <path d=\"M0 0h24v24H0V0z\" fill=\"none\"/>\n",
              "    <path d=\"M18.56 5.44l.94 2.06.94-2.06 2.06-.94-2.06-.94-.94-2.06-.94 2.06-2.06.94zm-11 1L8.5 8.5l.94-2.06 2.06-.94-2.06-.94L8.5 2.5l-.94 2.06-2.06.94zm10 10l.94 2.06.94-2.06 2.06-.94-2.06-.94-.94-2.06-.94 2.06-2.06.94z\"/><path d=\"M17.41 7.96l-1.37-1.37c-.4-.4-.92-.59-1.43-.59-.52 0-1.04.2-1.43.59L10.3 9.45l-7.72 7.72c-.78.78-.78 2.05 0 2.83L4 21.41c.39.39.9.59 1.41.59.51 0 1.02-.2 1.41-.59l7.78-7.78 2.81-2.81c.8-.78.8-2.07 0-2.86zM5.41 20L4 18.59l7.72-7.72 1.47 1.35L5.41 20z\"/>\n",
              "  </svg>\n",
              "      </button>\n",
              "      \n",
              "  <style>\n",
              "    .colab-df-container {\n",
              "      display:flex;\n",
              "      flex-wrap:wrap;\n",
              "      gap: 12px;\n",
              "    }\n",
              "\n",
              "    .colab-df-convert {\n",
              "      background-color: #E8F0FE;\n",
              "      border: none;\n",
              "      border-radius: 50%;\n",
              "      cursor: pointer;\n",
              "      display: none;\n",
              "      fill: #1967D2;\n",
              "      height: 32px;\n",
              "      padding: 0 0 0 0;\n",
              "      width: 32px;\n",
              "    }\n",
              "\n",
              "    .colab-df-convert:hover {\n",
              "      background-color: #E2EBFA;\n",
              "      box-shadow: 0px 1px 2px rgba(60, 64, 67, 0.3), 0px 1px 3px 1px rgba(60, 64, 67, 0.15);\n",
              "      fill: #174EA6;\n",
              "    }\n",
              "\n",
              "    [theme=dark] .colab-df-convert {\n",
              "      background-color: #3B4455;\n",
              "      fill: #D2E3FC;\n",
              "    }\n",
              "\n",
              "    [theme=dark] .colab-df-convert:hover {\n",
              "      background-color: #434B5C;\n",
              "      box-shadow: 0px 1px 3px 1px rgba(0, 0, 0, 0.15);\n",
              "      filter: drop-shadow(0px 1px 2px rgba(0, 0, 0, 0.3));\n",
              "      fill: #FFFFFF;\n",
              "    }\n",
              "  </style>\n",
              "\n",
              "      <script>\n",
              "        const buttonEl =\n",
              "          document.querySelector('#df-22619c91-dd3f-4ce7-a543-c0346a581c92 button.colab-df-convert');\n",
              "        buttonEl.style.display =\n",
              "          google.colab.kernel.accessAllowed ? 'block' : 'none';\n",
              "\n",
              "        async function convertToInteractive(key) {\n",
              "          const element = document.querySelector('#df-22619c91-dd3f-4ce7-a543-c0346a581c92');\n",
              "          const dataTable =\n",
              "            await google.colab.kernel.invokeFunction('convertToInteractive',\n",
              "                                                     [key], {});\n",
              "          if (!dataTable) return;\n",
              "\n",
              "          const docLinkHtml = 'Like what you see? Visit the ' +\n",
              "            '<a target=\"_blank\" href=https://colab.research.google.com/notebooks/data_table.ipynb>data table notebook</a>'\n",
              "            + ' to learn more about interactive tables.';\n",
              "          element.innerHTML = '';\n",
              "          dataTable['output_type'] = 'display_data';\n",
              "          await google.colab.output.renderOutput(dataTable, element);\n",
              "          const docLink = document.createElement('div');\n",
              "          docLink.innerHTML = docLinkHtml;\n",
              "          element.appendChild(docLink);\n",
              "        }\n",
              "      </script>\n",
              "    </div>\n",
              "  </div>\n",
              "  "
            ]
          },
          "metadata": {},
          "execution_count": 69
        }
      ]
    },
    {
      "cell_type": "code",
      "source": [],
      "metadata": {
        "id": "PiYtQEpdt4GG"
      },
      "execution_count": null,
      "outputs": []
    },
    {
      "cell_type": "code",
      "source": [
        "AMZN.head(5)"
      ],
      "metadata": {
        "colab": {
          "base_uri": "https://localhost:8080/",
          "height": 237
        },
        "id": "77Vdh7Kuqpmz",
        "outputId": "98af430e-12fc-4549-acd2-16fd25995c52"
      },
      "execution_count": null,
      "outputs": [
        {
          "output_type": "execute_result",
          "data": {
            "text/plain": [
              "                  Open        High         Low       Close   Adj Close  \\\n",
              "Date                                                                     \n",
              "2021-08-27  166.661499  167.615997  165.687500  167.481506  167.481506   \n",
              "2021-08-30  167.871506  172.250000  167.761002  171.078506  171.078506   \n",
              "2021-08-31  171.240005  173.628998  169.779495  173.539505  173.539505   \n",
              "2021-09-01  174.820007  176.350006  173.761993  173.949997  173.949997   \n",
              "2021-09-02  174.738007  175.598007  172.750000  173.156006  173.156006   \n",
              "\n",
              "              Volume company_name  \n",
              "Date                               \n",
              "2021-08-27  48048000       Amazon  \n",
              "2021-08-30  63844000       Amazon  \n",
              "2021-08-31  87128000       Amazon  \n",
              "2021-09-01  72598000       Amazon  \n",
              "2021-09-02  58474000       Amazon  "
            ],
            "text/html": [
              "\n",
              "  <div id=\"df-cf63204f-f9e1-4282-a437-e19982fd23c0\">\n",
              "    <div class=\"colab-df-container\">\n",
              "      <div>\n",
              "<style scoped>\n",
              "    .dataframe tbody tr th:only-of-type {\n",
              "        vertical-align: middle;\n",
              "    }\n",
              "\n",
              "    .dataframe tbody tr th {\n",
              "        vertical-align: top;\n",
              "    }\n",
              "\n",
              "    .dataframe thead th {\n",
              "        text-align: right;\n",
              "    }\n",
              "</style>\n",
              "<table border=\"1\" class=\"dataframe\">\n",
              "  <thead>\n",
              "    <tr style=\"text-align: right;\">\n",
              "      <th></th>\n",
              "      <th>Open</th>\n",
              "      <th>High</th>\n",
              "      <th>Low</th>\n",
              "      <th>Close</th>\n",
              "      <th>Adj Close</th>\n",
              "      <th>Volume</th>\n",
              "      <th>company_name</th>\n",
              "    </tr>\n",
              "    <tr>\n",
              "      <th>Date</th>\n",
              "      <th></th>\n",
              "      <th></th>\n",
              "      <th></th>\n",
              "      <th></th>\n",
              "      <th></th>\n",
              "      <th></th>\n",
              "      <th></th>\n",
              "    </tr>\n",
              "  </thead>\n",
              "  <tbody>\n",
              "    <tr>\n",
              "      <th>2021-08-27</th>\n",
              "      <td>166.661499</td>\n",
              "      <td>167.615997</td>\n",
              "      <td>165.687500</td>\n",
              "      <td>167.481506</td>\n",
              "      <td>167.481506</td>\n",
              "      <td>48048000</td>\n",
              "      <td>Amazon</td>\n",
              "    </tr>\n",
              "    <tr>\n",
              "      <th>2021-08-30</th>\n",
              "      <td>167.871506</td>\n",
              "      <td>172.250000</td>\n",
              "      <td>167.761002</td>\n",
              "      <td>171.078506</td>\n",
              "      <td>171.078506</td>\n",
              "      <td>63844000</td>\n",
              "      <td>Amazon</td>\n",
              "    </tr>\n",
              "    <tr>\n",
              "      <th>2021-08-31</th>\n",
              "      <td>171.240005</td>\n",
              "      <td>173.628998</td>\n",
              "      <td>169.779495</td>\n",
              "      <td>173.539505</td>\n",
              "      <td>173.539505</td>\n",
              "      <td>87128000</td>\n",
              "      <td>Amazon</td>\n",
              "    </tr>\n",
              "    <tr>\n",
              "      <th>2021-09-01</th>\n",
              "      <td>174.820007</td>\n",
              "      <td>176.350006</td>\n",
              "      <td>173.761993</td>\n",
              "      <td>173.949997</td>\n",
              "      <td>173.949997</td>\n",
              "      <td>72598000</td>\n",
              "      <td>Amazon</td>\n",
              "    </tr>\n",
              "    <tr>\n",
              "      <th>2021-09-02</th>\n",
              "      <td>174.738007</td>\n",
              "      <td>175.598007</td>\n",
              "      <td>172.750000</td>\n",
              "      <td>173.156006</td>\n",
              "      <td>173.156006</td>\n",
              "      <td>58474000</td>\n",
              "      <td>Amazon</td>\n",
              "    </tr>\n",
              "  </tbody>\n",
              "</table>\n",
              "</div>\n",
              "      <button class=\"colab-df-convert\" onclick=\"convertToInteractive('df-cf63204f-f9e1-4282-a437-e19982fd23c0')\"\n",
              "              title=\"Convert this dataframe to an interactive table.\"\n",
              "              style=\"display:none;\">\n",
              "        \n",
              "  <svg xmlns=\"http://www.w3.org/2000/svg\" height=\"24px\"viewBox=\"0 0 24 24\"\n",
              "       width=\"24px\">\n",
              "    <path d=\"M0 0h24v24H0V0z\" fill=\"none\"/>\n",
              "    <path d=\"M18.56 5.44l.94 2.06.94-2.06 2.06-.94-2.06-.94-.94-2.06-.94 2.06-2.06.94zm-11 1L8.5 8.5l.94-2.06 2.06-.94-2.06-.94L8.5 2.5l-.94 2.06-2.06.94zm10 10l.94 2.06.94-2.06 2.06-.94-2.06-.94-.94-2.06-.94 2.06-2.06.94z\"/><path d=\"M17.41 7.96l-1.37-1.37c-.4-.4-.92-.59-1.43-.59-.52 0-1.04.2-1.43.59L10.3 9.45l-7.72 7.72c-.78.78-.78 2.05 0 2.83L4 21.41c.39.39.9.59 1.41.59.51 0 1.02-.2 1.41-.59l7.78-7.78 2.81-2.81c.8-.78.8-2.07 0-2.86zM5.41 20L4 18.59l7.72-7.72 1.47 1.35L5.41 20z\"/>\n",
              "  </svg>\n",
              "      </button>\n",
              "      \n",
              "  <style>\n",
              "    .colab-df-container {\n",
              "      display:flex;\n",
              "      flex-wrap:wrap;\n",
              "      gap: 12px;\n",
              "    }\n",
              "\n",
              "    .colab-df-convert {\n",
              "      background-color: #E8F0FE;\n",
              "      border: none;\n",
              "      border-radius: 50%;\n",
              "      cursor: pointer;\n",
              "      display: none;\n",
              "      fill: #1967D2;\n",
              "      height: 32px;\n",
              "      padding: 0 0 0 0;\n",
              "      width: 32px;\n",
              "    }\n",
              "\n",
              "    .colab-df-convert:hover {\n",
              "      background-color: #E2EBFA;\n",
              "      box-shadow: 0px 1px 2px rgba(60, 64, 67, 0.3), 0px 1px 3px 1px rgba(60, 64, 67, 0.15);\n",
              "      fill: #174EA6;\n",
              "    }\n",
              "\n",
              "    [theme=dark] .colab-df-convert {\n",
              "      background-color: #3B4455;\n",
              "      fill: #D2E3FC;\n",
              "    }\n",
              "\n",
              "    [theme=dark] .colab-df-convert:hover {\n",
              "      background-color: #434B5C;\n",
              "      box-shadow: 0px 1px 3px 1px rgba(0, 0, 0, 0.15);\n",
              "      filter: drop-shadow(0px 1px 2px rgba(0, 0, 0, 0.3));\n",
              "      fill: #FFFFFF;\n",
              "    }\n",
              "  </style>\n",
              "\n",
              "      <script>\n",
              "        const buttonEl =\n",
              "          document.querySelector('#df-cf63204f-f9e1-4282-a437-e19982fd23c0 button.colab-df-convert');\n",
              "        buttonEl.style.display =\n",
              "          google.colab.kernel.accessAllowed ? 'block' : 'none';\n",
              "\n",
              "        async function convertToInteractive(key) {\n",
              "          const element = document.querySelector('#df-cf63204f-f9e1-4282-a437-e19982fd23c0');\n",
              "          const dataTable =\n",
              "            await google.colab.kernel.invokeFunction('convertToInteractive',\n",
              "                                                     [key], {});\n",
              "          if (!dataTable) return;\n",
              "\n",
              "          const docLinkHtml = 'Like what you see? Visit the ' +\n",
              "            '<a target=\"_blank\" href=https://colab.research.google.com/notebooks/data_table.ipynb>data table notebook</a>'\n",
              "            + ' to learn more about interactive tables.';\n",
              "          element.innerHTML = '';\n",
              "          dataTable['output_type'] = 'display_data';\n",
              "          await google.colab.output.renderOutput(dataTable, element);\n",
              "          const docLink = document.createElement('div');\n",
              "          docLink.innerHTML = docLinkHtml;\n",
              "          element.appendChild(docLink);\n",
              "        }\n",
              "      </script>\n",
              "    </div>\n",
              "  </div>\n",
              "  "
            ]
          },
          "metadata": {},
          "execution_count": 70
        }
      ]
    },
    {
      "cell_type": "code",
      "source": [
        "AAPL.describe()"
      ],
      "metadata": {
        "colab": {
          "base_uri": "https://localhost:8080/",
          "height": 300
        },
        "id": "acLF8C0Fq7bH",
        "outputId": "9ff3a008-bf86-407b-b003-eb7558e38564"
      },
      "execution_count": null,
      "outputs": [
        {
          "output_type": "execute_result",
          "data": {
            "text/plain": [
              "             Open        High         Low       Close   Adj Close  \\\n",
              "count  252.000000  252.000000  252.000000  252.000000  252.000000   \n",
              "mean   157.951309  159.962976  156.141984  158.142778  157.644789   \n",
              "std     12.682969   12.684803   12.551357   12.602675   12.572965   \n",
              "min    130.070007  132.389999  129.039993  130.059998  129.879593   \n",
              "25%    147.897499  149.414993  146.515003  148.382500  147.767662   \n",
              "50%    158.780006  161.010002  155.889999  158.240005  157.788673   \n",
              "75%    169.232502  171.057503  167.220001  168.970005  168.630116   \n",
              "max    182.630005  182.940002  179.119995  182.009995  181.259933   \n",
              "\n",
              "             Volume  \n",
              "count  2.520000e+02  \n",
              "mean   8.811215e+07  \n",
              "std    2.647635e+07  \n",
              "min    4.100000e+07  \n",
              "25%    6.937820e+07  \n",
              "50%    8.248645e+07  \n",
              "75%    1.002058e+08  \n",
              "max    1.954327e+08  "
            ],
            "text/html": [
              "\n",
              "  <div id=\"df-07cd3787-59f6-4c25-be4d-5bbcd59556d7\">\n",
              "    <div class=\"colab-df-container\">\n",
              "      <div>\n",
              "<style scoped>\n",
              "    .dataframe tbody tr th:only-of-type {\n",
              "        vertical-align: middle;\n",
              "    }\n",
              "\n",
              "    .dataframe tbody tr th {\n",
              "        vertical-align: top;\n",
              "    }\n",
              "\n",
              "    .dataframe thead th {\n",
              "        text-align: right;\n",
              "    }\n",
              "</style>\n",
              "<table border=\"1\" class=\"dataframe\">\n",
              "  <thead>\n",
              "    <tr style=\"text-align: right;\">\n",
              "      <th></th>\n",
              "      <th>Open</th>\n",
              "      <th>High</th>\n",
              "      <th>Low</th>\n",
              "      <th>Close</th>\n",
              "      <th>Adj Close</th>\n",
              "      <th>Volume</th>\n",
              "    </tr>\n",
              "  </thead>\n",
              "  <tbody>\n",
              "    <tr>\n",
              "      <th>count</th>\n",
              "      <td>252.000000</td>\n",
              "      <td>252.000000</td>\n",
              "      <td>252.000000</td>\n",
              "      <td>252.000000</td>\n",
              "      <td>252.000000</td>\n",
              "      <td>2.520000e+02</td>\n",
              "    </tr>\n",
              "    <tr>\n",
              "      <th>mean</th>\n",
              "      <td>157.951309</td>\n",
              "      <td>159.962976</td>\n",
              "      <td>156.141984</td>\n",
              "      <td>158.142778</td>\n",
              "      <td>157.644789</td>\n",
              "      <td>8.811215e+07</td>\n",
              "    </tr>\n",
              "    <tr>\n",
              "      <th>std</th>\n",
              "      <td>12.682969</td>\n",
              "      <td>12.684803</td>\n",
              "      <td>12.551357</td>\n",
              "      <td>12.602675</td>\n",
              "      <td>12.572965</td>\n",
              "      <td>2.647635e+07</td>\n",
              "    </tr>\n",
              "    <tr>\n",
              "      <th>min</th>\n",
              "      <td>130.070007</td>\n",
              "      <td>132.389999</td>\n",
              "      <td>129.039993</td>\n",
              "      <td>130.059998</td>\n",
              "      <td>129.879593</td>\n",
              "      <td>4.100000e+07</td>\n",
              "    </tr>\n",
              "    <tr>\n",
              "      <th>25%</th>\n",
              "      <td>147.897499</td>\n",
              "      <td>149.414993</td>\n",
              "      <td>146.515003</td>\n",
              "      <td>148.382500</td>\n",
              "      <td>147.767662</td>\n",
              "      <td>6.937820e+07</td>\n",
              "    </tr>\n",
              "    <tr>\n",
              "      <th>50%</th>\n",
              "      <td>158.780006</td>\n",
              "      <td>161.010002</td>\n",
              "      <td>155.889999</td>\n",
              "      <td>158.240005</td>\n",
              "      <td>157.788673</td>\n",
              "      <td>8.248645e+07</td>\n",
              "    </tr>\n",
              "    <tr>\n",
              "      <th>75%</th>\n",
              "      <td>169.232502</td>\n",
              "      <td>171.057503</td>\n",
              "      <td>167.220001</td>\n",
              "      <td>168.970005</td>\n",
              "      <td>168.630116</td>\n",
              "      <td>1.002058e+08</td>\n",
              "    </tr>\n",
              "    <tr>\n",
              "      <th>max</th>\n",
              "      <td>182.630005</td>\n",
              "      <td>182.940002</td>\n",
              "      <td>179.119995</td>\n",
              "      <td>182.009995</td>\n",
              "      <td>181.259933</td>\n",
              "      <td>1.954327e+08</td>\n",
              "    </tr>\n",
              "  </tbody>\n",
              "</table>\n",
              "</div>\n",
              "      <button class=\"colab-df-convert\" onclick=\"convertToInteractive('df-07cd3787-59f6-4c25-be4d-5bbcd59556d7')\"\n",
              "              title=\"Convert this dataframe to an interactive table.\"\n",
              "              style=\"display:none;\">\n",
              "        \n",
              "  <svg xmlns=\"http://www.w3.org/2000/svg\" height=\"24px\"viewBox=\"0 0 24 24\"\n",
              "       width=\"24px\">\n",
              "    <path d=\"M0 0h24v24H0V0z\" fill=\"none\"/>\n",
              "    <path d=\"M18.56 5.44l.94 2.06.94-2.06 2.06-.94-2.06-.94-.94-2.06-.94 2.06-2.06.94zm-11 1L8.5 8.5l.94-2.06 2.06-.94-2.06-.94L8.5 2.5l-.94 2.06-2.06.94zm10 10l.94 2.06.94-2.06 2.06-.94-2.06-.94-.94-2.06-.94 2.06-2.06.94z\"/><path d=\"M17.41 7.96l-1.37-1.37c-.4-.4-.92-.59-1.43-.59-.52 0-1.04.2-1.43.59L10.3 9.45l-7.72 7.72c-.78.78-.78 2.05 0 2.83L4 21.41c.39.39.9.59 1.41.59.51 0 1.02-.2 1.41-.59l7.78-7.78 2.81-2.81c.8-.78.8-2.07 0-2.86zM5.41 20L4 18.59l7.72-7.72 1.47 1.35L5.41 20z\"/>\n",
              "  </svg>\n",
              "      </button>\n",
              "      \n",
              "  <style>\n",
              "    .colab-df-container {\n",
              "      display:flex;\n",
              "      flex-wrap:wrap;\n",
              "      gap: 12px;\n",
              "    }\n",
              "\n",
              "    .colab-df-convert {\n",
              "      background-color: #E8F0FE;\n",
              "      border: none;\n",
              "      border-radius: 50%;\n",
              "      cursor: pointer;\n",
              "      display: none;\n",
              "      fill: #1967D2;\n",
              "      height: 32px;\n",
              "      padding: 0 0 0 0;\n",
              "      width: 32px;\n",
              "    }\n",
              "\n",
              "    .colab-df-convert:hover {\n",
              "      background-color: #E2EBFA;\n",
              "      box-shadow: 0px 1px 2px rgba(60, 64, 67, 0.3), 0px 1px 3px 1px rgba(60, 64, 67, 0.15);\n",
              "      fill: #174EA6;\n",
              "    }\n",
              "\n",
              "    [theme=dark] .colab-df-convert {\n",
              "      background-color: #3B4455;\n",
              "      fill: #D2E3FC;\n",
              "    }\n",
              "\n",
              "    [theme=dark] .colab-df-convert:hover {\n",
              "      background-color: #434B5C;\n",
              "      box-shadow: 0px 1px 3px 1px rgba(0, 0, 0, 0.15);\n",
              "      filter: drop-shadow(0px 1px 2px rgba(0, 0, 0, 0.3));\n",
              "      fill: #FFFFFF;\n",
              "    }\n",
              "  </style>\n",
              "\n",
              "      <script>\n",
              "        const buttonEl =\n",
              "          document.querySelector('#df-07cd3787-59f6-4c25-be4d-5bbcd59556d7 button.colab-df-convert');\n",
              "        buttonEl.style.display =\n",
              "          google.colab.kernel.accessAllowed ? 'block' : 'none';\n",
              "\n",
              "        async function convertToInteractive(key) {\n",
              "          const element = document.querySelector('#df-07cd3787-59f6-4c25-be4d-5bbcd59556d7');\n",
              "          const dataTable =\n",
              "            await google.colab.kernel.invokeFunction('convertToInteractive',\n",
              "                                                     [key], {});\n",
              "          if (!dataTable) return;\n",
              "\n",
              "          const docLinkHtml = 'Like what you see? Visit the ' +\n",
              "            '<a target=\"_blank\" href=https://colab.research.google.com/notebooks/data_table.ipynb>data table notebook</a>'\n",
              "            + ' to learn more about interactive tables.';\n",
              "          element.innerHTML = '';\n",
              "          dataTable['output_type'] = 'display_data';\n",
              "          await google.colab.output.renderOutput(dataTable, element);\n",
              "          const docLink = document.createElement('div');\n",
              "          docLink.innerHTML = docLinkHtml;\n",
              "          element.appendChild(docLink);\n",
              "        }\n",
              "      </script>\n",
              "    </div>\n",
              "  </div>\n",
              "  "
            ]
          },
          "metadata": {},
          "execution_count": 71
        }
      ]
    },
    {
      "cell_type": "code",
      "source": [
        "ma_days=[10,20,50]\n",
        "for ma in ma_days:\n",
        "  for company in company_list:\n",
        "    column_name=f'MA FOR {ma} DAYS'\n",
        "    company[column_name]=company['Close'].rolling(ma).mean()\n"
      ],
      "metadata": {
        "id": "16MlCpwnrWUS"
      },
      "execution_count": null,
      "outputs": []
    },
    {
      "cell_type": "code",
      "source": [
        "AAPL[['Close','MA FOR 10 DAYS','MA FOR 20 DAYS','MA FOR 50 DAYS']].plot()"
      ],
      "metadata": {
        "colab": {
          "base_uri": "https://localhost:8080/",
          "height": 295
        },
        "id": "J2Hwf_8Cq-io",
        "outputId": "5d09646d-c709-4ab3-c1fb-d3e0c4fd0f17"
      },
      "execution_count": null,
      "outputs": [
        {
          "output_type": "execute_result",
          "data": {
            "text/plain": [
              "<matplotlib.axes._subplots.AxesSubplot at 0x7f48f0967310>"
            ]
          },
          "metadata": {},
          "execution_count": 73
        },
        {
          "output_type": "display_data",
          "data": {
            "text/plain": [
              "<Figure size 432x288 with 1 Axes>"
            ],
            "image/png": "[encoded data removed]"
          },
          "metadata": {
            "needs_background": "light"
          }
        }
      ]
    },
    {
      "cell_type": "code",
      "source": [
        "data=AAPL.filter(['Close'])"
      ],
      "metadata": {
        "id": "7iN21-8lt5S-"
      },
      "execution_count": null,
      "outputs": []
    },
    {
      "cell_type": "code",
      "source": [
        "data"
      ],
      "metadata": {
        "colab": {
          "base_uri": "https://localhost:8080/",
          "height": 455
        },
        "id": "MthLkjzOuGyt",
        "outputId": "2ddb0e0b-f149-4268-de8e-2ac5b9406226"
      },
      "execution_count": null,
      "outputs": [
        {
          "output_type": "execute_result",
          "data": {
            "text/plain": [
              "                 Close\n",
              "Date                  \n",
              "2021-08-27  148.600006\n",
              "2021-08-30  153.119995\n",
              "2021-08-31  151.830002\n",
              "2021-09-01  152.509995\n",
              "2021-09-02  153.649994\n",
              "...                ...\n",
              "2022-08-22  167.570007\n",
              "2022-08-23  167.229996\n",
              "2022-08-24  167.529999\n",
              "2022-08-25  170.029999\n",
              "2022-08-26  163.619995\n",
              "\n",
              "[252 rows x 1 columns]"
            ],
            "text/html": [
              "\n",
              "  <div id=\"df-54f0c957-d84b-4b5e-8a72-37415cb714d0\">\n",
              "    <div class=\"colab-df-container\">\n",
              "      <div>\n",
              "<style scoped>\n",
              "    .dataframe tbody tr th:only-of-type {\n",
              "        vertical-align: middle;\n",
              "    }\n",
              "\n",
              "    .dataframe tbody tr th {\n",
              "        vertical-align: top;\n",
              "    }\n",
              "\n",
              "    .dataframe thead th {\n",
              "        text-align: right;\n",
              "    }\n",
              "</style>\n",
              "<table border=\"1\" class=\"dataframe\">\n",
              "  <thead>\n",
              "    <tr style=\"text-align: right;\">\n",
              "      <th></th>\n",
              "      <th>Close</th>\n",
              "    </tr>\n",
              "    <tr>\n",
              "      <th>Date</th>\n",
              "      <th></th>\n",
              "    </tr>\n",
              "  </thead>\n",
              "  <tbody>\n",
              "    <tr>\n",
              "      <th>2021-08-27</th>\n",
              "      <td>148.600006</td>\n",
              "    </tr>\n",
              "    <tr>\n",
              "      <th>2021-08-30</th>\n",
              "      <td>153.119995</td>\n",
              "    </tr>\n",
              "    <tr>\n",
              "      <th>2021-08-31</th>\n",
              "      <td>151.830002</td>\n",
              "    </tr>\n",
              "    <tr>\n",
              "      <th>2021-09-01</th>\n",
              "      <td>152.509995</td>\n",
              "    </tr>\n",
              "    <tr>\n",
              "      <th>2021-09-02</th>\n",
              "      <td>153.649994</td>\n",
              "    </tr>\n",
              "    <tr>\n",
              "      <th>...</th>\n",
              "      <td>...</td>\n",
              "    </tr>\n",
              "    <tr>\n",
              "      <th>2022-08-22</th>\n",
              "      <td>167.570007</td>\n",
              "    </tr>\n",
              "    <tr>\n",
              "      <th>2022-08-23</th>\n",
              "      <td>167.229996</td>\n",
              "    </tr>\n",
              "    <tr>\n",
              "      <th>2022-08-24</th>\n",
              "      <td>167.529999</td>\n",
              "    </tr>\n",
              "    <tr>\n",
              "      <th>2022-08-25</th>\n",
              "      <td>170.029999</td>\n",
              "    </tr>\n",
              "    <tr>\n",
              "      <th>2022-08-26</th>\n",
              "      <td>163.619995</td>\n",
              "    </tr>\n",
              "  </tbody>\n",
              "</table>\n",
              "<p>252 rows × 1 columns</p>\n",
              "</div>\n",
              "      <button class=\"colab-df-convert\" onclick=\"convertToInteractive('df-54f0c957-d84b-4b5e-8a72-37415cb714d0')\"\n",
              "              title=\"Convert this dataframe to an interactive table.\"\n",
              "              style=\"display:none;\">\n",
              "        \n",
              "  <svg xmlns=\"http://www.w3.org/2000/svg\" height=\"24px\"viewBox=\"0 0 24 24\"\n",
              "       width=\"24px\">\n",
              "    <path d=\"M0 0h24v24H0V0z\" fill=\"none\"/>\n",
              "    <path d=\"M18.56 5.44l.94 2.06.94-2.06 2.06-.94-2.06-.94-.94-2.06-.94 2.06-2.06.94zm-11 1L8.5 8.5l.94-2.06 2.06-.94-2.06-.94L8.5 2.5l-.94 2.06-2.06.94zm10 10l.94 2.06.94-2.06 2.06-.94-2.06-.94-.94-2.06-.94 2.06-2.06.94z\"/><path d=\"M17.41 7.96l-1.37-1.37c-.4-.4-.92-.59-1.43-.59-.52 0-1.04.2-1.43.59L10.3 9.45l-7.72 7.72c-.78.78-.78 2.05 0 2.83L4 21.41c.39.39.9.59 1.41.59.51 0 1.02-.2 1.41-.59l7.78-7.78 2.81-2.81c.8-.78.8-2.07 0-2.86zM5.41 20L4 18.59l7.72-7.72 1.47 1.35L5.41 20z\"/>\n",
              "  </svg>\n",
              "      </button>\n",
              "      \n",
              "  <style>\n",
              "    .colab-df-container {\n",
              "      display:flex;\n",
              "      flex-wrap:wrap;\n",
              "      gap: 12px;\n",
              "    }\n",
              "\n",
              "    .colab-df-convert {\n",
              "      background-color: #E8F0FE;\n",
              "      border: none;\n",
              "      border-radius: 50%;\n",
              "      cursor: pointer;\n",
              "      display: none;\n",
              "      fill: #1967D2;\n",
              "      height: 32px;\n",
              "      padding: 0 0 0 0;\n",
              "      width: 32px;\n",
              "    }\n",
              "\n",
              "    .colab-df-convert:hover {\n",
              "      background-color: #E2EBFA;\n",
              "      box-shadow: 0px 1px 2px rgba(60, 64, 67, 0.3), 0px 1px 3px 1px rgba(60, 64, 67, 0.15);\n",
              "      fill: #174EA6;\n",
              "    }\n",
              "\n",
              "    [theme=dark] .colab-df-convert {\n",
              "      background-color: #3B4455;\n",
              "      fill: #D2E3FC;\n",
              "    }\n",
              "\n",
              "    [theme=dark] .colab-df-convert:hover {\n",
              "      background-color: #434B5C;\n",
              "      box-shadow: 0px 1px 3px 1px rgba(0, 0, 0, 0.15);\n",
              "      filter: drop-shadow(0px 1px 2px rgba(0, 0, 0, 0.3));\n",
              "      fill: #FFFFFF;\n",
              "    }\n",
              "  </style>\n",
              "\n",
              "      <script>\n",
              "        const buttonEl =\n",
              "          document.querySelector('#df-54f0c957-d84b-4b5e-8a72-37415cb714d0 button.colab-df-convert');\n",
              "        buttonEl.style.display =\n",
              "          google.colab.kernel.accessAllowed ? 'block' : 'none';\n",
              "\n",
              "        async function convertToInteractive(key) {\n",
              "          const element = document.querySelector('#df-54f0c957-d84b-4b5e-8a72-37415cb714d0');\n",
              "          const dataTable =\n",
              "            await google.colab.kernel.invokeFunction('convertToInteractive',\n",
              "                                                     [key], {});\n",
              "          if (!dataTable) return;\n",
              "\n",
              "          const docLinkHtml = 'Like what you see? Visit the ' +\n",
              "            '<a target=\"_blank\" href=https://colab.research.google.com/notebooks/data_table.ipynb>data table notebook</a>'\n",
              "            + ' to learn more about interactive tables.';\n",
              "          element.innerHTML = '';\n",
              "          dataTable['output_type'] = 'display_data';\n",
              "          await google.colab.output.renderOutput(dataTable, element);\n",
              "          const docLink = document.createElement('div');\n",
              "          docLink.innerHTML = docLinkHtml;\n",
              "          element.appendChild(docLink);\n",
              "        }\n",
              "      </script>\n",
              "    </div>\n",
              "  </div>\n",
              "  "
            ]
          },
          "metadata": {},
          "execution_count": 75
        }
      ]
    },
    {
      "cell_type": "code",
      "source": [],
      "metadata": {
        "id": "OzavEg2fut79"
      },
      "execution_count": null,
      "outputs": []
    },
    {
      "cell_type": "code",
      "source": [
        "dataset=data.values"
      ],
      "metadata": {
        "id": "cefteSiJuP9C"
      },
      "execution_count": null,
      "outputs": []
    },
    {
      "cell_type": "code",
      "source": [
        "dataset"
      ],
      "metadata": {
        "colab": {
          "base_uri": "https://localhost:8080/"
        },
        "id": "mD7PIfL2uSnh",
        "outputId": "1d582a0e-3843-4929-f2d7-7bfc6b546780"
      },
      "execution_count": null,
      "outputs": [
        {
          "output_type": "execute_result",
          "data": {
            "text/plain": [
              "array([[148.6000061 ],\n",
              "       [153.11999512],\n",
              "       [151.83000183],\n",
              "       [152.50999451],\n",
              "       [153.6499939 ],\n",
              "       [154.30000305],\n",
              "       [156.69000244],\n",
              "       [155.11000061],\n",
              "       [154.07000732],\n",
              "       [148.97000122],\n",
              "       [149.55000305],\n",
              "       [148.11999512],\n",
              "       [149.02999878],\n",
              "       [148.78999329],\n",
              "       [146.05999756],\n",
              "       [142.94000244],\n",
              "       [143.42999268],\n",
              "       [145.8500061 ],\n",
              "       [146.83000183],\n",
              "       [146.91999817],\n",
              "       [145.36999512],\n",
              "       [141.91000366],\n",
              "       [142.83000183],\n",
              "       [141.5       ],\n",
              "       [142.6499939 ],\n",
              "       [139.13999939],\n",
              "       [141.11000061],\n",
              "       [142.        ],\n",
              "       [143.28999329],\n",
              "       [142.8999939 ],\n",
              "       [142.80999756],\n",
              "       [141.50999451],\n",
              "       [140.91000366],\n",
              "       [143.75999451],\n",
              "       [144.83999634],\n",
              "       [146.55000305],\n",
              "       [148.75999451],\n",
              "       [149.25999451],\n",
              "       [149.47999573],\n",
              "       [148.69000244],\n",
              "       [148.63999939],\n",
              "       [149.32000732],\n",
              "       [148.8500061 ],\n",
              "       [152.57000732],\n",
              "       [149.80000305],\n",
              "       [148.96000671],\n",
              "       [150.02000427],\n",
              "       [151.49000549],\n",
              "       [150.96000671],\n",
              "       [151.27999878],\n",
              "       [150.44000244],\n",
              "       [150.80999756],\n",
              "       [147.91999817],\n",
              "       [147.86999512],\n",
              "       [149.99000549],\n",
              "       [150.        ],\n",
              "       [151.        ],\n",
              "       [153.49000549],\n",
              "       [157.86999512],\n",
              "       [160.55000305],\n",
              "       [161.02000427],\n",
              "       [161.41000366],\n",
              "       [161.94000244],\n",
              "       [156.80999756],\n",
              "       [160.24000549],\n",
              "       [165.30000305],\n",
              "       [164.77000427],\n",
              "       [163.75999451],\n",
              "       [161.83999634],\n",
              "       [165.32000732],\n",
              "       [171.17999268],\n",
              "       [175.08000183],\n",
              "       [174.55999756],\n",
              "       [179.44999695],\n",
              "       [175.74000549],\n",
              "       [174.33000183],\n",
              "       [179.30000305],\n",
              "       [172.25999451],\n",
              "       [171.13999939],\n",
              "       [169.75      ],\n",
              "       [172.99000549],\n",
              "       [175.63999939],\n",
              "       [176.27999878],\n",
              "       [180.33000183],\n",
              "       [179.28999329],\n",
              "       [179.38000488],\n",
              "       [178.19999695],\n",
              "       [177.57000732],\n",
              "       [182.00999451],\n",
              "       [179.69999695],\n",
              "       [174.91999817],\n",
              "       [172.        ],\n",
              "       [172.16999817],\n",
              "       [172.19000244],\n",
              "       [175.08000183],\n",
              "       [175.52999878],\n",
              "       [172.19000244],\n",
              "       [173.07000732],\n",
              "       [169.80000305],\n",
              "       [166.22999573],\n",
              "       [164.50999451],\n",
              "       [162.41000366],\n",
              "       [161.61999512],\n",
              "       [159.77999878],\n",
              "       [159.69000244],\n",
              "       [159.22000122],\n",
              "       [170.33000183],\n",
              "       [174.77999878],\n",
              "       [174.61000061],\n",
              "       [175.83999634],\n",
              "       [172.8999939 ],\n",
              "       [172.38999939],\n",
              "       [171.66000366],\n",
              "       [174.83000183],\n",
              "       [176.27999878],\n",
              "       [172.11999512],\n",
              "       [168.63999939],\n",
              "       [168.88000488],\n",
              "       [172.78999329],\n",
              "       [172.55000305],\n",
              "       [168.88000488],\n",
              "       [167.30000305],\n",
              "       [164.32000732],\n",
              "       [160.07000732],\n",
              "       [162.74000549],\n",
              "       [164.8500061 ],\n",
              "       [165.11999512],\n",
              "       [163.19999695],\n",
              "       [166.55999756],\n",
              "       [166.22999573],\n",
              "       [163.16999817],\n",
              "       [159.30000305],\n",
              "       [157.44000244],\n",
              "       [162.94999695],\n",
              "       [158.52000427],\n",
              "       [154.72999573],\n",
              "       [150.61999512],\n",
              "       [155.08999634],\n",
              "       [159.58999634],\n",
              "       [160.61999512],\n",
              "       [163.97999573],\n",
              "       [165.38000488],\n",
              "       [168.82000732],\n",
              "       [170.21000671],\n",
              "       [174.07000732],\n",
              "       [174.72000122],\n",
              "       [175.6000061 ],\n",
              "       [178.96000671],\n",
              "       [177.77000427],\n",
              "       [174.61000061],\n",
              "       [174.30999756],\n",
              "       [178.44000244],\n",
              "       [175.05999756],\n",
              "       [171.83000183],\n",
              "       [172.13999939],\n",
              "       [170.08999634],\n",
              "       [165.75      ],\n",
              "       [167.66000366],\n",
              "       [170.3999939 ],\n",
              "       [165.28999329],\n",
              "       [165.07000732],\n",
              "       [167.3999939 ],\n",
              "       [167.22999573],\n",
              "       [166.41999817],\n",
              "       [161.78999329],\n",
              "       [162.88000488],\n",
              "       [156.80000305],\n",
              "       [156.57000732],\n",
              "       [163.63999939],\n",
              "       [157.6499939 ],\n",
              "       [157.96000671],\n",
              "       [159.47999573],\n",
              "       [166.02000427],\n",
              "       [156.77000427],\n",
              "       [157.27999878],\n",
              "       [152.05999756],\n",
              "       [154.50999451],\n",
              "       [146.5       ],\n",
              "       [142.55999756],\n",
              "       [147.11000061],\n",
              "       [145.53999329],\n",
              "       [149.24000549],\n",
              "       [140.82000732],\n",
              "       [137.3500061 ],\n",
              "       [137.58999634],\n",
              "       [143.11000061],\n",
              "       [140.36000061],\n",
              "       [140.52000427],\n",
              "       [143.77999878],\n",
              "       [149.63999939],\n",
              "       [148.83999634],\n",
              "       [148.71000671],\n",
              "       [151.21000671],\n",
              "       [145.38000488],\n",
              "       [146.13999939],\n",
              "       [148.71000671],\n",
              "       [147.96000671],\n",
              "       [142.63999939],\n",
              "       [137.13000488],\n",
              "       [131.88000488],\n",
              "       [132.75999451],\n",
              "       [135.42999268],\n",
              "       [130.05999756],\n",
              "       [131.55999756],\n",
              "       [135.86999512],\n",
              "       [135.3500061 ],\n",
              "       [138.27000427],\n",
              "       [141.66000366],\n",
              "       [141.66000366],\n",
              "       [137.44000244],\n",
              "       [139.22999573],\n",
              "       [136.72000122],\n",
              "       [138.92999268],\n",
              "       [141.55999756],\n",
              "       [142.91999817],\n",
              "       [146.3500061 ],\n",
              "       [147.03999329],\n",
              "       [144.86999512],\n",
              "       [145.86000061],\n",
              "       [145.49000549],\n",
              "       [148.47000122],\n",
              "       [150.16999817],\n",
              "       [147.07000732],\n",
              "       [151.        ],\n",
              "       [153.03999329],\n",
              "       [155.3500061 ],\n",
              "       [154.08999634],\n",
              "       [152.94999695],\n",
              "       [151.6000061 ],\n",
              "       [156.78999329],\n",
              "       [157.3500061 ],\n",
              "       [162.50999451],\n",
              "       [161.50999451],\n",
              "       [160.00999451],\n",
              "       [166.13000488],\n",
              "       [165.80999756],\n",
              "       [165.3500061 ],\n",
              "       [164.86999512],\n",
              "       [164.91999817],\n",
              "       [169.24000549],\n",
              "       [168.49000549],\n",
              "       [172.1000061 ],\n",
              "       [173.19000244],\n",
              "       [173.02999878],\n",
              "       [174.55000305],\n",
              "       [174.1499939 ],\n",
              "       [171.52000427],\n",
              "       [167.57000732],\n",
              "       [167.22999573],\n",
              "       [167.52999878],\n",
              "       [170.02999878],\n",
              "       [163.61999512]])"
            ]
          },
          "metadata": {},
          "execution_count": 77
        }
      ]
    },
    {
      "cell_type": "code",
      "source": [
        "training_data_len=int(np.ceil(len(dataset)*.95))"
      ],
      "metadata": {
        "id": "v0m1bEA2uz9M"
      },
      "execution_count": null,
      "outputs": []
    },
    {
      "cell_type": "code",
      "source": [
        "dataset.shape"
      ],
      "metadata": {
        "colab": {
          "base_uri": "https://localhost:8080/"
        },
        "id": "0YRTdIrNvByl",
        "outputId": "dc25cb5a-469d-4d26-e4e8-fc2fd602bae6"
      },
      "execution_count": null,
      "outputs": [
        {
          "output_type": "execute_result",
          "data": {
            "text/plain": [
              "(252, 1)"
            ]
          },
          "metadata": {},
          "execution_count": 79
        }
      ]
    },
    {
      "cell_type": "code",
      "source": [
        "training_data_len"
      ],
      "metadata": {
        "colab": {
          "base_uri": "https://localhost:8080/"
        },
        "id": "hS6sg-y3vDuE",
        "outputId": "129dc308-05c7-4f5c-e245-c8d04d7dd41c"
      },
      "execution_count": null,
      "outputs": [
        {
          "output_type": "execute_result",
          "data": {
            "text/plain": [
              "240"
            ]
          },
          "metadata": {},
          "execution_count": 80
        }
      ]
    },
    {
      "cell_type": "code",
      "source": [
        "from sklearn.preprocessing import MinMaxScaler\n"
      ],
      "metadata": {
        "id": "rK9LURJAvOhH"
      },
      "execution_count": null,
      "outputs": []
    },
    {
      "cell_type": "code",
      "source": [
        "scaler=MinMaxScaler(feature_range=(0,1))\n",
        "scaled_data=scaler.fit_transform(dataset)"
      ],
      "metadata": {
        "id": "jwfICDiFvb7W"
      },
      "execution_count": null,
      "outputs": []
    },
    {
      "cell_type": "code",
      "source": [
        "scaled_data[:5]"
      ],
      "metadata": {
        "colab": {
          "base_uri": "https://localhost:8080/"
        },
        "id": "8T6NOmHzvtc8",
        "outputId": "73ff7884-eb62-4e0f-d85e-720ff3760bba"
      },
      "execution_count": null,
      "outputs": [
        {
          "output_type": "execute_result",
          "data": {
            "text/plain": [
              "array([[0.3568818 ],\n",
              "       [0.44388833],\n",
              "       [0.41905689],\n",
              "       [0.43214626],\n",
              "       [0.45409043]])"
            ]
          },
          "metadata": {},
          "execution_count": 83
        }
      ]
    },
    {
      "cell_type": "code",
      "source": [
        "train_data=scaled_data[0:int(training_data_len),:]"
      ],
      "metadata": {
        "id": "3NQRma3Rv_Cr"
      },
      "execution_count": null,
      "outputs": []
    },
    {
      "cell_type": "code",
      "source": [
        "x_train=[]\n",
        "y_train=[]\n",
        "for i in range(60,len(train_data)):\n",
        "  x_train.append(train_data[i-60:i,0])\n",
        "  y_train.append(train_data[i,0])"
      ],
      "metadata": {
        "id": "LeLqXt1AwRP6"
      },
      "execution_count": null,
      "outputs": []
    },
    {
      "cell_type": "code",
      "source": [
        "print(x_train[:5])"
      ],
      "metadata": {
        "colab": {
          "base_uri": "https://localhost:8080/"
        },
        "id": "kskOPIxUxHmY",
        "outputId": "9899be36-d17f-4ed8-9fd4-2472e8def794"
      },
      "execution_count": null,
      "outputs": [
        {
          "output_type": "stream",
          "name": "stdout",
          "text": [
            "[array([0.3568818 , 0.44388833, 0.41905689, 0.43214626, 0.45409043,\n",
            "       0.46660264, 0.5126084 , 0.4821945 , 0.46217538, 0.36400394,\n",
            "       0.37516856, 0.34764194, 0.36515885, 0.36053892, 0.30798847,\n",
            "       0.24793081, 0.25736277, 0.30394628, 0.3228105 , 0.32454286,\n",
            "       0.29470642, 0.22810408, 0.24581338, 0.2202118 , 0.24234836,\n",
            "       0.17478349, 0.21270459, 0.22983644, 0.25466788, 0.24716068,\n",
            "       0.24542831, 0.22040419, 0.2088548 , 0.26371507, 0.28450432,\n",
            "       0.31742072, 0.35996146, 0.3695861 , 0.37382097, 0.35861417,\n",
            "       0.35765164, 0.37074131, 0.36169412, 0.43330146, 0.37998088,\n",
            "       0.36381155, 0.38421574, 0.41251221, 0.40231011, 0.40846973,\n",
            "       0.39230041, 0.39942255, 0.34379214, 0.34282962, 0.38363829,\n",
            "       0.38383068, 0.40307996, 0.45101077, 0.53532241, 0.58691063]), array([0.44388833, 0.41905689, 0.43214626, 0.45409043, 0.46660264,\n",
            "       0.5126084 , 0.4821945 , 0.46217538, 0.36400394, 0.37516856,\n",
            "       0.34764194, 0.36515885, 0.36053892, 0.30798847, 0.24793081,\n",
            "       0.25736277, 0.30394628, 0.3228105 , 0.32454286, 0.29470642,\n",
            "       0.22810408, 0.24581338, 0.2202118 , 0.24234836, 0.17478349,\n",
            "       0.21270459, 0.22983644, 0.25466788, 0.24716068, 0.24542831,\n",
            "       0.22040419, 0.2088548 , 0.26371507, 0.28450432, 0.31742072,\n",
            "       0.35996146, 0.3695861 , 0.37382097, 0.35861417, 0.35765164,\n",
            "       0.37074131, 0.36169412, 0.43330146, 0.37998088, 0.36381155,\n",
            "       0.38421574, 0.41251221, 0.40231011, 0.40846973, 0.39230041,\n",
            "       0.39942255, 0.34379214, 0.34282962, 0.38363829, 0.38383068,\n",
            "       0.40307996, 0.45101077, 0.53532241, 0.58691063, 0.59595782]), array([0.41905689, 0.43214626, 0.45409043, 0.46660264, 0.5126084 ,\n",
            "       0.4821945 , 0.46217538, 0.36400394, 0.37516856, 0.34764194,\n",
            "       0.36515885, 0.36053892, 0.30798847, 0.24793081, 0.25736277,\n",
            "       0.30394628, 0.3228105 , 0.32454286, 0.29470642, 0.22810408,\n",
            "       0.24581338, 0.2202118 , 0.24234836, 0.17478349, 0.21270459,\n",
            "       0.22983644, 0.25466788, 0.24716068, 0.24542831, 0.22040419,\n",
            "       0.2088548 , 0.26371507, 0.28450432, 0.31742072, 0.35996146,\n",
            "       0.3695861 , 0.37382097, 0.35861417, 0.35765164, 0.37074131,\n",
            "       0.36169412, 0.43330146, 0.37998088, 0.36381155, 0.38421574,\n",
            "       0.41251221, 0.40231011, 0.40846973, 0.39230041, 0.39942255,\n",
            "       0.34379214, 0.34282962, 0.38363829, 0.38383068, 0.40307996,\n",
            "       0.45101077, 0.53532241, 0.58691063, 0.59595782, 0.60346502]), array([0.43214626, 0.45409043, 0.46660264, 0.5126084 , 0.4821945 ,\n",
            "       0.46217538, 0.36400394, 0.37516856, 0.34764194, 0.36515885,\n",
            "       0.36053892, 0.30798847, 0.24793081, 0.25736277, 0.30394628,\n",
            "       0.3228105 , 0.32454286, 0.29470642, 0.22810408, 0.24581338,\n",
            "       0.2202118 , 0.24234836, 0.17478349, 0.21270459, 0.22983644,\n",
            "       0.25466788, 0.24716068, 0.24542831, 0.22040419, 0.2088548 ,\n",
            "       0.26371507, 0.28450432, 0.31742072, 0.35996146, 0.3695861 ,\n",
            "       0.37382097, 0.35861417, 0.35765164, 0.37074131, 0.36169412,\n",
            "       0.43330146, 0.37998088, 0.36381155, 0.38421574, 0.41251221,\n",
            "       0.40231011, 0.40846973, 0.39230041, 0.39942255, 0.34379214,\n",
            "       0.34282962, 0.38363829, 0.38383068, 0.40307996, 0.45101077,\n",
            "       0.53532241, 0.58691063, 0.59595782, 0.60346502, 0.61366712]), array([0.45409043, 0.46660264, 0.5126084 , 0.4821945 , 0.46217538,\n",
            "       0.36400394, 0.37516856, 0.34764194, 0.36515885, 0.36053892,\n",
            "       0.30798847, 0.24793081, 0.25736277, 0.30394628, 0.3228105 ,\n",
            "       0.32454286, 0.29470642, 0.22810408, 0.24581338, 0.2202118 ,\n",
            "       0.24234836, 0.17478349, 0.21270459, 0.22983644, 0.25466788,\n",
            "       0.24716068, 0.24542831, 0.22040419, 0.2088548 , 0.26371507,\n",
            "       0.28450432, 0.31742072, 0.35996146, 0.3695861 , 0.37382097,\n",
            "       0.35861417, 0.35765164, 0.37074131, 0.36169412, 0.43330146,\n",
            "       0.37998088, 0.36381155, 0.38421574, 0.41251221, 0.40231011,\n",
            "       0.40846973, 0.39230041, 0.39942255, 0.34379214, 0.34282962,\n",
            "       0.38363829, 0.38383068, 0.40307996, 0.45101077, 0.53532241,\n",
            "       0.58691063, 0.59595782, 0.60346502, 0.61366712, 0.51491822])]\n"
          ]
        }
      ]
    },
    {
      "cell_type": "code",
      "source": [
        "x_train,y_train=np.array(x_train),np.array(y_train)"
      ],
      "metadata": {
        "id": "UlM2u5RUxuXL"
      },
      "execution_count": null,
      "outputs": []
    },
    {
      "cell_type": "code",
      "source": [
        "x_train.shape"
      ],
      "metadata": {
        "colab": {
          "base_uri": "https://localhost:8080/"
        },
        "id": "4NLxt8IZx4Gb",
        "outputId": "d951353c-9c3c-4fab-ce46-d6480a692c22"
      },
      "execution_count": null,
      "outputs": [
        {
          "output_type": "execute_result",
          "data": {
            "text/plain": [
              "(180, 60)"
            ]
          },
          "metadata": {},
          "execution_count": 47
        }
      ]
    },
    {
      "cell_type": "code",
      "source": [
        "x_train=np.reshape(x_train,(x_train.shape[0],x_train.shape[1],1))"
      ],
      "metadata": {
        "id": "ghBukB6Ax_jH"
      },
      "execution_count": null,
      "outputs": []
    },
    {
      "cell_type": "code",
      "source": [
        "x_train.shape"
      ],
      "metadata": {
        "colab": {
          "base_uri": "https://localhost:8080/"
        },
        "id": "J6MR6EKAygA7",
        "outputId": "3f7f42a1-875e-48f2-87d4-dac49bc98b7a"
      },
      "execution_count": null,
      "outputs": [
        {
          "output_type": "execute_result",
          "data": {
            "text/plain": [
              "(180, 60, 1)"
            ]
          },
          "metadata": {},
          "execution_count": 49
        }
      ]
    },
    {
      "cell_type": "code",
      "source": [
        "#build the model\n",
        "from keras.models import Sequential\n",
        "from keras.layers import Dense, LSTM\n",
        "model=Sequential()\n",
        "model.add(LSTM(128,return_sequences=True,input_shape=(x_train.shape[1],1)))\n",
        "model.add(LSTM(64,return_sequences=True))\n",
        "model.add(LSTM(16,return_sequences=False))\n",
        "model.add(Dense(25))\n",
        "model.add(Dense(1))\n",
        "\n",
        "\n"
      ],
      "metadata": {
        "id": "HYLGEPkQyhtW"
      },
      "execution_count": null,
      "outputs": []
    },
    {
      "cell_type": "code",
      "source": [
        "model.summary()"
      ],
      "metadata": {
        "colab": {
          "base_uri": "https://localhost:8080/"
        },
        "id": "q7WIu9CCznWm",
        "outputId": "00aa1ae2-acb4-437d-a0c8-dfcf98d40da5"
      },
      "execution_count": null,
      "outputs": [
        {
          "output_type": "stream",
          "name": "stdout",
          "text": [
            "Model: \"sequential\"\n",
            "_________________________________________________________________\n",
            " Layer (type)                Output Shape              Param #   \n",
            "=================================================================\n",
            " lstm (LSTM)                 (None, 60, 128)           66560     \n",
            "                                                                 \n",
            " lstm_1 (LSTM)               (None, 60, 64)            49408     \n",
            "                                                                 \n",
            " lstm_2 (LSTM)               (None, 16)                5184      \n",
            "                                                                 \n",
            " dense (Dense)               (None, 25)                425       \n",
            "                                                                 \n",
            " dense_1 (Dense)             (None, 1)                 26        \n",
            "                                                                 \n",
            "=================================================================\n",
            "Total params: 121,603\n",
            "Trainable params: 121,603\n",
            "Non-trainable params: 0\n",
            "_________________________________________________________________\n"
          ]
        }
      ]
    },
    {
      "cell_type": "code",
      "source": [
        "model.compile(optimizer='adam',loss='mean_squared_error')\n"
      ],
      "metadata": {
        "id": "yFFM4jOW0Ryo"
      },
      "execution_count": null,
      "outputs": []
    },
    {
      "cell_type": "code",
      "source": [
        "model.fit(x_train,y_train,batch_size=2,epochs=1)"
      ],
      "metadata": {
        "colab": {
          "base_uri": "https://localhost:8080/"
        },
        "id": "SamyDsti0gI_",
        "outputId": "7acf33d9-50f7-4112-9454-f7b8ab611f69"
      },
      "execution_count": null,
      "outputs": [
        {
          "output_type": "stream",
          "name": "stdout",
          "text": [
            "90/90 [==============================] - 10s 64ms/step - loss: 0.0427\n"
          ]
        },
        {
          "output_type": "execute_result",
          "data": {
            "text/plain": [
              "<keras.callbacks.History at 0x7f4881a243d0>"
            ]
          },
          "metadata": {},
          "execution_count": 53
        }
      ]
    },
    {
      "cell_type": "code",
      "source": [
        "test_data=scaled_data[training_data_len-60:,:]"
      ],
      "metadata": {
        "id": "dscBr5H7zrn8"
      },
      "execution_count": null,
      "outputs": []
    },
    {
      "cell_type": "code",
      "source": [
        "test_data.shape"
      ],
      "metadata": {
        "colab": {
          "base_uri": "https://localhost:8080/"
        },
        "id": "dXO4F9Vi1DkZ",
        "outputId": "7de71db5-de45-4cef-d711-4f909d99e342"
      },
      "execution_count": null,
      "outputs": [
        {
          "output_type": "execute_result",
          "data": {
            "text/plain": [
              "(72, 1)"
            ]
          },
          "metadata": {},
          "execution_count": 55
        }
      ]
    },
    {
      "cell_type": "code",
      "source": [
        "x_test=[]\n",
        "y_test=dataset[training_data_len:,:]\n",
        "\n",
        "for i in range(60,len(test_data)):\n",
        "  x_test.append(test_data[i-60:i,0])\n"
      ],
      "metadata": {
        "id": "3FxUc38p1FMR"
      },
      "execution_count": null,
      "outputs": []
    },
    {
      "cell_type": "code",
      "source": [
        "type(x_test)"
      ],
      "metadata": {
        "colab": {
          "base_uri": "https://localhost:8080/"
        },
        "id": "dvhW4DYI1b9u",
        "outputId": "e6a4009c-530f-46e7-cd3b-cc22b0093fdd"
      },
      "execution_count": null,
      "outputs": [
        {
          "output_type": "execute_result",
          "data": {
            "text/plain": [
              "list"
            ]
          },
          "metadata": {},
          "execution_count": 87
        }
      ]
    },
    {
      "cell_type": "code",
      "source": [
        "x_test=np.array(x_test)"
      ],
      "metadata": {
        "id": "pSowv98R1kVn"
      },
      "execution_count": null,
      "outputs": []
    },
    {
      "cell_type": "code",
      "source": [
        "x_test=np.reshape(x_test,(x_test.shape[0],x_test.shape[1],1))"
      ],
      "metadata": {
        "id": "vAwEn4gJ1nF4"
      },
      "execution_count": null,
      "outputs": []
    },
    {
      "cell_type": "code",
      "source": [
        "predictions=model.predict(x_test)"
      ],
      "metadata": {
        "id": "ppVPx5EN1y14"
      },
      "execution_count": null,
      "outputs": []
    },
    {
      "cell_type": "code",
      "source": [
        "predictions=scaler.inverse_transform(predictions)"
      ],
      "metadata": {
        "id": "qIHE2P6J13Gy"
      },
      "execution_count": null,
      "outputs": []
    },
    {
      "cell_type": "code",
      "source": [
        "predictions"
      ],
      "metadata": {
        "colab": {
          "base_uri": "https://localhost:8080/"
        },
        "id": "xd1Licel2Dmk",
        "outputId": "266368ca-dab9-4202-f8ad-e27631b748b0"
      },
      "execution_count": null,
      "outputs": [
        {
          "output_type": "execute_result",
          "data": {
            "text/plain": [
              "array([[167.43608],\n",
              "       [168.32275],\n",
              "       [169.20468],\n",
              "       [170.09389],\n",
              "       [170.97629],\n",
              "       [171.84998],\n",
              "       [172.6933 ],\n",
              "       [173.45291],\n",
              "       [174.05612],\n",
              "       [174.48001],\n",
              "       [174.73535],\n",
              "       [174.87593]], dtype=float32)"
            ]
          },
          "metadata": {},
          "execution_count": 93
        }
      ]
    },
    {
      "cell_type": "code",
      "source": [
        "y_test"
      ],
      "metadata": {
        "colab": {
          "base_uri": "https://localhost:8080/"
        },
        "id": "2W8tEd1a2TJv",
        "outputId": "c762c231-cf43-43ea-9b02-aba19dd1cb46"
      },
      "execution_count": null,
      "outputs": [
        {
          "output_type": "execute_result",
          "data": {
            "text/plain": [
              "array([[168.49000549],\n",
              "       [172.1000061 ],\n",
              "       [173.19000244],\n",
              "       [173.02999878],\n",
              "       [174.55000305],\n",
              "       [174.1499939 ],\n",
              "       [171.52000427],\n",
              "       [167.57000732],\n",
              "       [167.22999573],\n",
              "       [167.52999878],\n",
              "       [170.02999878],\n",
              "       [163.61999512]])"
            ]
          },
          "metadata": {},
          "execution_count": 94
        }
      ]
    },
    {
      "cell_type": "code",
      "source": [
        "rmse=np.sqrt(np.mean(((predictions-y_test)**2)))"
      ],
      "metadata": {
        "id": "UQA5Vd0w2fE2"
      },
      "execution_count": null,
      "outputs": []
    },
    {
      "cell_type": "code",
      "source": [
        "rmse"
      ],
      "metadata": {
        "colab": {
          "base_uri": "https://localhost:8080/"
        },
        "id": "yqn7GM9B2w3d",
        "outputId": "7aa7aaea-cbc6-4109-9432-bd02d62d2397"
      },
      "execution_count": null,
      "outputs": [
        {
          "output_type": "execute_result",
          "data": {
            "text/plain": [
              "5.304587078677603"
            ]
          },
          "metadata": {},
          "execution_count": 96
        }
      ]
    },
    {
      "cell_type": "code",
      "source": [
        "training_data_len"
      ],
      "metadata": {
        "colab": {
          "base_uri": "https://localhost:8080/"
        },
        "id": "Fm0MIp3x3mT9",
        "outputId": "8394e227-e9f8-4a43-e26f-6519a200b0f0"
      },
      "execution_count": null,
      "outputs": [
        {
          "output_type": "execute_result",
          "data": {
            "text/plain": [
              "240"
            ]
          },
          "metadata": {},
          "execution_count": 100
        }
      ]
    },
    {
      "cell_type": "code",
      "source": [
        "dataset.shape"
      ],
      "metadata": {
        "colab": {
          "base_uri": "https://localhost:8080/"
        },
        "id": "M0D4SvB03tfr",
        "outputId": "8a31acb0-58be-48e6-b71f-b032adba42d5"
      },
      "execution_count": null,
      "outputs": [
        {
          "output_type": "execute_result",
          "data": {
            "text/plain": [
              "(252, 1)"
            ]
          },
          "metadata": {},
          "execution_count": 101
        }
      ]
    },
    {
      "cell_type": "code",
      "source": [
        "train=data[:training_data_len]"
      ],
      "metadata": {
        "id": "V62bUMv04P6K"
      },
      "execution_count": null,
      "outputs": []
    },
    {
      "cell_type": "code",
      "source": [
        "valid=data[training_data_len:]"
      ],
      "metadata": {
        "id": "dnxR8io_4TNQ"
      },
      "execution_count": null,
      "outputs": []
    },
    {
      "cell_type": "code",
      "source": [
        "valid.head()"
      ],
      "metadata": {
        "colab": {
          "base_uri": "https://localhost:8080/",
          "height": 237
        },
        "id": "ZQHnUQct4Xxv",
        "outputId": "f11bc4de-2298-4d95-8baf-58eaf42c9531"
      },
      "execution_count": null,
      "outputs": [
        {
          "output_type": "execute_result",
          "data": {
            "text/plain": [
              "                 Close\n",
              "Date                  \n",
              "2022-08-11  168.490005\n",
              "2022-08-12  172.100006\n",
              "2022-08-15  173.190002\n",
              "2022-08-16  173.029999\n",
              "2022-08-17  174.550003"
            ],
            "text/html": [
              "\n",
              "  <div id=\"df-c3306f53-1619-4177-8a5a-4adafde06c15\">\n",
              "    <div class=\"colab-df-container\">\n",
              "      <div>\n",
              "<style scoped>\n",
              "    .dataframe tbody tr th:only-of-type {\n",
              "        vertical-align: middle;\n",
              "    }\n",
              "\n",
              "    .dataframe tbody tr th {\n",
              "        vertical-align: top;\n",
              "    }\n",
              "\n",
              "    .dataframe thead th {\n",
              "        text-align: right;\n",
              "    }\n",
              "</style>\n",
              "<table border=\"1\" class=\"dataframe\">\n",
              "  <thead>\n",
              "    <tr style=\"text-align: right;\">\n",
              "      <th></th>\n",
              "      <th>Close</th>\n",
              "    </tr>\n",
              "    <tr>\n",
              "      <th>Date</th>\n",
              "      <th></th>\n",
              "    </tr>\n",
              "  </thead>\n",
              "  <tbody>\n",
              "    <tr>\n",
              "      <th>2022-08-11</th>\n",
              "      <td>168.490005</td>\n",
              "    </tr>\n",
              "    <tr>\n",
              "      <th>2022-08-12</th>\n",
              "      <td>172.100006</td>\n",
              "    </tr>\n",
              "    <tr>\n",
              "      <th>2022-08-15</th>\n",
              "      <td>173.190002</td>\n",
              "    </tr>\n",
              "    <tr>\n",
              "      <th>2022-08-16</th>\n",
              "      <td>173.029999</td>\n",
              "    </tr>\n",
              "    <tr>\n",
              "      <th>2022-08-17</th>\n",
              "      <td>174.550003</td>\n",
              "    </tr>\n",
              "  </tbody>\n",
              "</table>\n",
              "</div>\n",
              "      <button class=\"colab-df-convert\" onclick=\"convertToInteractive('df-c3306f53-1619-4177-8a5a-4adafde06c15')\"\n",
              "              title=\"Convert this dataframe to an interactive table.\"\n",
              "              style=\"display:none;\">\n",
              "        \n",
              "  <svg xmlns=\"http://www.w3.org/2000/svg\" height=\"24px\"viewBox=\"0 0 24 24\"\n",
              "       width=\"24px\">\n",
              "    <path d=\"M0 0h24v24H0V0z\" fill=\"none\"/>\n",
              "    <path d=\"M18.56 5.44l.94 2.06.94-2.06 2.06-.94-2.06-.94-.94-2.06-.94 2.06-2.06.94zm-11 1L8.5 8.5l.94-2.06 2.06-.94-2.06-.94L8.5 2.5l-.94 2.06-2.06.94zm10 10l.94 2.06.94-2.06 2.06-.94-2.06-.94-.94-2.06-.94 2.06-2.06.94z\"/><path d=\"M17.41 7.96l-1.37-1.37c-.4-.4-.92-.59-1.43-.59-.52 0-1.04.2-1.43.59L10.3 9.45l-7.72 7.72c-.78.78-.78 2.05 0 2.83L4 21.41c.39.39.9.59 1.41.59.51 0 1.02-.2 1.41-.59l7.78-7.78 2.81-2.81c.8-.78.8-2.07 0-2.86zM5.41 20L4 18.59l7.72-7.72 1.47 1.35L5.41 20z\"/>\n",
              "  </svg>\n",
              "      </button>\n",
              "      \n",
              "  <style>\n",
              "    .colab-df-container {\n",
              "      display:flex;\n",
              "      flex-wrap:wrap;\n",
              "      gap: 12px;\n",
              "    }\n",
              "\n",
              "    .colab-df-convert {\n",
              "      background-color: #E8F0FE;\n",
              "      border: none;\n",
              "      border-radius: 50%;\n",
              "      cursor: pointer;\n",
              "      display: none;\n",
              "      fill: #1967D2;\n",
              "      height: 32px;\n",
              "      padding: 0 0 0 0;\n",
              "      width: 32px;\n",
              "    }\n",
              "\n",
              "    .colab-df-convert:hover {\n",
              "      background-color: #E2EBFA;\n",
              "      box-shadow: 0px 1px 2px rgba(60, 64, 67, 0.3), 0px 1px 3px 1px rgba(60, 64, 67, 0.15);\n",
              "      fill: #174EA6;\n",
              "    }\n",
              "\n",
              "    [theme=dark] .colab-df-convert {\n",
              "      background-color: #3B4455;\n",
              "      fill: #D2E3FC;\n",
              "    }\n",
              "\n",
              "    [theme=dark] .colab-df-convert:hover {\n",
              "      background-color: #434B5C;\n",
              "      box-shadow: 0px 1px 3px 1px rgba(0, 0, 0, 0.15);\n",
              "      filter: drop-shadow(0px 1px 2px rgba(0, 0, 0, 0.3));\n",
              "      fill: #FFFFFF;\n",
              "    }\n",
              "  </style>\n",
              "\n",
              "      <script>\n",
              "        const buttonEl =\n",
              "          document.querySelector('#df-c3306f53-1619-4177-8a5a-4adafde06c15 button.colab-df-convert');\n",
              "        buttonEl.style.display =\n",
              "          google.colab.kernel.accessAllowed ? 'block' : 'none';\n",
              "\n",
              "        async function convertToInteractive(key) {\n",
              "          const element = document.querySelector('#df-c3306f53-1619-4177-8a5a-4adafde06c15');\n",
              "          const dataTable =\n",
              "            await google.colab.kernel.invokeFunction('convertToInteractive',\n",
              "                                                     [key], {});\n",
              "          if (!dataTable) return;\n",
              "\n",
              "          const docLinkHtml = 'Like what you see? Visit the ' +\n",
              "            '<a target=\"_blank\" href=https://colab.research.google.com/notebooks/data_table.ipynb>data table notebook</a>'\n",
              "            + ' to learn more about interactive tables.';\n",
              "          element.innerHTML = '';\n",
              "          dataTable['output_type'] = 'display_data';\n",
              "          await google.colab.output.renderOutput(dataTable, element);\n",
              "          const docLink = document.createElement('div');\n",
              "          docLink.innerHTML = docLinkHtml;\n",
              "          element.appendChild(docLink);\n",
              "        }\n",
              "      </script>\n",
              "    </div>\n",
              "  </div>\n",
              "  "
            ]
          },
          "metadata": {},
          "execution_count": 113
        }
      ]
    },
    {
      "cell_type": "code",
      "source": [
        "valid['prediction']=predictions"
      ],
      "metadata": {
        "colab": {
          "base_uri": "https://localhost:8080/"
        },
        "id": "rhKsBsW94cG4",
        "outputId": "9bfe5c0e-b0f5-48e7-f5fd-754db4f2a68d"
      },
      "execution_count": null,
      "outputs": [
        {
          "output_type": "stream",
          "name": "stderr",
          "text": [
            "/usr/local/lib/python3.7/dist-packages/ipykernel_launcher.py:1: SettingWithCopyWarning: \n",
            "A value is trying to be set on a copy of a slice from a DataFrame.\n",
            "Try using .loc[row_indexer,col_indexer] = value instead\n",
            "\n",
            "See the caveats in the documentation: https://pandas.pydata.org/pandas-docs/stable/user_guide/indexing.html#returning-a-view-versus-a-copy\n",
            "  \"\"\"Entry point for launching an IPython kernel.\n"
          ]
        }
      ]
    },
    {
      "cell_type": "code",
      "source": [
        "valid.head(5)"
      ],
      "metadata": {
        "colab": {
          "base_uri": "https://localhost:8080/",
          "height": 237
        },
        "id": "R6CKxR8R4jo3",
        "outputId": "2eb0dd10-f66c-4f0a-835b-a8b36bc99693"
      },
      "execution_count": null,
      "outputs": [
        {
          "output_type": "execute_result",
          "data": {
            "text/plain": [
              "                 Close  prediction\n",
              "Date                              \n",
              "2022-08-11  168.490005  167.436081\n",
              "2022-08-12  172.100006  168.322754\n",
              "2022-08-15  173.190002  169.204681\n",
              "2022-08-16  173.029999  170.093887\n",
              "2022-08-17  174.550003  170.976288"
            ],
            "text/html": [
              "\n",
              "  <div id=\"df-bd9ab728-e5f3-46cd-9331-dc1f7d7fb74f\">\n",
              "    <div class=\"colab-df-container\">\n",
              "      <div>\n",
              "<style scoped>\n",
              "    .dataframe tbody tr th:only-of-type {\n",
              "        vertical-align: middle;\n",
              "    }\n",
              "\n",
              "    .dataframe tbody tr th {\n",
              "        vertical-align: top;\n",
              "    }\n",
              "\n",
              "    .dataframe thead th {\n",
              "        text-align: right;\n",
              "    }\n",
              "</style>\n",
              "<table border=\"1\" class=\"dataframe\">\n",
              "  <thead>\n",
              "    <tr style=\"text-align: right;\">\n",
              "      <th></th>\n",
              "      <th>Close</th>\n",
              "      <th>prediction</th>\n",
              "    </tr>\n",
              "    <tr>\n",
              "      <th>Date</th>\n",
              "      <th></th>\n",
              "      <th></th>\n",
              "    </tr>\n",
              "  </thead>\n",
              "  <tbody>\n",
              "    <tr>\n",
              "      <th>2022-08-11</th>\n",
              "      <td>168.490005</td>\n",
              "      <td>167.436081</td>\n",
              "    </tr>\n",
              "    <tr>\n",
              "      <th>2022-08-12</th>\n",
              "      <td>172.100006</td>\n",
              "      <td>168.322754</td>\n",
              "    </tr>\n",
              "    <tr>\n",
              "      <th>2022-08-15</th>\n",
              "      <td>173.190002</td>\n",
              "      <td>169.204681</td>\n",
              "    </tr>\n",
              "    <tr>\n",
              "      <th>2022-08-16</th>\n",
              "      <td>173.029999</td>\n",
              "      <td>170.093887</td>\n",
              "    </tr>\n",
              "    <tr>\n",
              "      <th>2022-08-17</th>\n",
              "      <td>174.550003</td>\n",
              "      <td>170.976288</td>\n",
              "    </tr>\n",
              "  </tbody>\n",
              "</table>\n",
              "</div>\n",
              "      <button class=\"colab-df-convert\" onclick=\"convertToInteractive('df-bd9ab728-e5f3-46cd-9331-dc1f7d7fb74f')\"\n",
              "              title=\"Convert this dataframe to an interactive table.\"\n",
              "              style=\"display:none;\">\n",
              "        \n",
              "  <svg xmlns=\"http://www.w3.org/2000/svg\" height=\"24px\"viewBox=\"0 0 24 24\"\n",
              "       width=\"24px\">\n",
              "    <path d=\"M0 0h24v24H0V0z\" fill=\"none\"/>\n",
              "    <path d=\"M18.56 5.44l.94 2.06.94-2.06 2.06-.94-2.06-.94-.94-2.06-.94 2.06-2.06.94zm-11 1L8.5 8.5l.94-2.06 2.06-.94-2.06-.94L8.5 2.5l-.94 2.06-2.06.94zm10 10l.94 2.06.94-2.06 2.06-.94-2.06-.94-.94-2.06-.94 2.06-2.06.94z\"/><path d=\"M17.41 7.96l-1.37-1.37c-.4-.4-.92-.59-1.43-.59-.52 0-1.04.2-1.43.59L10.3 9.45l-7.72 7.72c-.78.78-.78 2.05 0 2.83L4 21.41c.39.39.9.59 1.41.59.51 0 1.02-.2 1.41-.59l7.78-7.78 2.81-2.81c.8-.78.8-2.07 0-2.86zM5.41 20L4 18.59l7.72-7.72 1.47 1.35L5.41 20z\"/>\n",
              "  </svg>\n",
              "      </button>\n",
              "      \n",
              "  <style>\n",
              "    .colab-df-container {\n",
              "      display:flex;\n",
              "      flex-wrap:wrap;\n",
              "      gap: 12px;\n",
              "    }\n",
              "\n",
              "    .colab-df-convert {\n",
              "      background-color: #E8F0FE;\n",
              "      border: none;\n",
              "      border-radius: 50%;\n",
              "      cursor: pointer;\n",
              "      display: none;\n",
              "      fill: #1967D2;\n",
              "      height: 32px;\n",
              "      padding: 0 0 0 0;\n",
              "      width: 32px;\n",
              "    }\n",
              "\n",
              "    .colab-df-convert:hover {\n",
              "      background-color: #E2EBFA;\n",
              "      box-shadow: 0px 1px 2px rgba(60, 64, 67, 0.3), 0px 1px 3px 1px rgba(60, 64, 67, 0.15);\n",
              "      fill: #174EA6;\n",
              "    }\n",
              "\n",
              "    [theme=dark] .colab-df-convert {\n",
              "      background-color: #3B4455;\n",
              "      fill: #D2E3FC;\n",
              "    }\n",
              "\n",
              "    [theme=dark] .colab-df-convert:hover {\n",
              "      background-color: #434B5C;\n",
              "      box-shadow: 0px 1px 3px 1px rgba(0, 0, 0, 0.15);\n",
              "      filter: drop-shadow(0px 1px 2px rgba(0, 0, 0, 0.3));\n",
              "      fill: #FFFFFF;\n",
              "    }\n",
              "  </style>\n",
              "\n",
              "      <script>\n",
              "        const buttonEl =\n",
              "          document.querySelector('#df-bd9ab728-e5f3-46cd-9331-dc1f7d7fb74f button.colab-df-convert');\n",
              "        buttonEl.style.display =\n",
              "          google.colab.kernel.accessAllowed ? 'block' : 'none';\n",
              "\n",
              "        async function convertToInteractive(key) {\n",
              "          const element = document.querySelector('#df-bd9ab728-e5f3-46cd-9331-dc1f7d7fb74f');\n",
              "          const dataTable =\n",
              "            await google.colab.kernel.invokeFunction('convertToInteractive',\n",
              "                                                     [key], {});\n",
              "          if (!dataTable) return;\n",
              "\n",
              "          const docLinkHtml = 'Like what you see? Visit the ' +\n",
              "            '<a target=\"_blank\" href=https://colab.research.google.com/notebooks/data_table.ipynb>data table notebook</a>'\n",
              "            + ' to learn more about interactive tables.';\n",
              "          element.innerHTML = '';\n",
              "          dataTable['output_type'] = 'display_data';\n",
              "          await google.colab.output.renderOutput(dataTable, element);\n",
              "          const docLink = document.createElement('div');\n",
              "          docLink.innerHTML = docLinkHtml;\n",
              "          element.appendChild(docLink);\n",
              "        }\n",
              "      </script>\n",
              "    </div>\n",
              "  </div>\n",
              "  "
            ]
          },
          "metadata": {},
          "execution_count": 115
        }
      ]
    },
    {
      "cell_type": "code",
      "source": [
        "\n",
        "plt.plot(train['Close'])\n",
        "plt.plot(valid[['Close','prediction']])"
      ],
      "metadata": {
        "colab": {
          "base_uri": "https://localhost:8080/",
          "height": 302
        },
        "id": "_wzdSzis27t9",
        "outputId": "ddb74637-9dc1-418b-d3ef-26b2f8a27b49"
      },
      "execution_count": null,
      "outputs": [
        {
          "output_type": "execute_result",
          "data": {
            "text/plain": [
              "[<matplotlib.lines.Line2D at 0x7f487e566150>,\n",
              " <matplotlib.lines.Line2D at 0x7f487e487c50>]"
            ]
          },
          "metadata": {},
          "execution_count": 117
        },
        {
          "output_type": "display_data",
          "data": {
            "text/plain": [
              "<Figure size 432x288 with 1 Axes>"
            ],
            "image/png": "[encoded data removed]"
          },
          "metadata": {
            "needs_background": "light"
          }
        }
      ]
    },
    {
      "cell_type": "code",
      "source": [],
      "metadata": {
        "id": "7UQSKttb3liO"
      },
      "execution_count": null,
      "outputs": []
    }
  ]
}